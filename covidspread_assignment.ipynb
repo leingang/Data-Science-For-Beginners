{
  "nbformat": 4,
  "nbformat_minor": 0,
  "metadata": {
    "colab": {
      "name": "covidspread-assignment.ipynb",
      "provenance": [],
      "authorship_tag": "ABX9TyMxlnS1ZkjvZXcUDSBnRzGP",
      "include_colab_link": true
    },
    "kernelspec": {
      "name": "python3",
      "display_name": "Python 3"
    },
    "language_info": {
      "name": "python"
    }
  },
  "cells": [
    {
      "cell_type": "markdown",
      "metadata": {
        "id": "view-in-github",
        "colab_type": "text"
      },
      "source": [
        "<a href=\"https://colab.research.google.com/github/leingang/Data-Science-For-Beginners/blob/main/covidspread_assignment.ipynb\" target=\"_parent\"><img src=\"https://colab.research.google.com/assets/colab-badge.svg\" alt=\"Open In Colab\"/></a>"
      ]
    },
    {
      "cell_type": "markdown",
      "source": [
        "# Assignment for Data Processing in Python\n",
        "\n",
        "In this assignment, we will ask you to elaborate on the code we have started developing in our challenges. The assignment consists of two parts:\n",
        "\n",
        "## COVID-19 Spread Modelling\n",
        "\n",
        " - [ ] Plot *R<sub>t</sub>* graphs for 5-6 different countries on one plot for comparison, or using several plots side-by-side\n",
        " - [ ] See how the number of deaths and recoveries correlate with number of infected cases.\n",
        " - [ ] Find out how long a typical disease lasts by visually correlating infection rate and deaths rate and looking for some anomalies. You may need to look at different countries to find that out.\n",
        " - [ ] Calculate the fatality rate and how it changes over time. *You may want to take into account the length of the disease in days to shift one time series before doing calculations*\n",
        "\n"
      ],
      "metadata": {
        "id": "OCAkVuewuwLI"
      }
    },
    {
      "cell_type": "markdown",
      "source": [
        "### Setup"
      ],
      "metadata": {
        "id": "2qt31lAFzcPG"
      }
    },
    {
      "cell_type": "code",
      "execution_count": 1,
      "metadata": {
        "id": "zm3ngTq8uZ51"
      },
      "outputs": [],
      "source": [
        "import numpy as np\n",
        "import pandas as pd\n",
        "import matplotlib.pyplot as plt"
      ]
    },
    {
      "cell_type": "code",
      "source": [
        "base_url = \"https://raw.githubusercontent.com/CSSEGISandData/COVID-19/master/csse_covid_19_data/csse_covid_19_time_series/\" # loading from Internet\n",
        "# base_url = \"../../data/COVID/\" # loading from disk\n",
        "infected_dataset_url = base_url + \"time_series_covid19_confirmed_global.csv\"\n",
        "recovered_dataset_url = base_url + \"time_series_covid19_recovered_global.csv\"\n",
        "deaths_dataset_url = base_url + \"time_series_covid19_deaths_global.csv\"\n",
        "countries_dataset_url = base_url + \"../UID_ISO_FIPS_LookUp_Table.csv\""
      ],
      "metadata": {
        "id": "QVZqofelvDTn"
      },
      "execution_count": 2,
      "outputs": []
    },
    {
      "cell_type": "code",
      "source": [
        "infected = pd.read_csv(infected_dataset_url)\n",
        "recovered = pd.read_csv(recovered_dataset_url)\n",
        "deaths = pd.read_csv(deaths_dataset_url)\n",
        "countries = pd.read_csv(countries_dataset_url)"
      ],
      "metadata": {
        "id": "vjl_SzTwvFQL"
      },
      "execution_count": 3,
      "outputs": []
    },
    {
      "cell_type": "markdown",
      "source": [
        "Sum over countries to ignore regions. Also drop the lat/long of each.\n",
        "\n",
        "TODO: Find a DRY-er way to do this."
      ],
      "metadata": {
        "id": "x6_dwSo1wjFU"
      }
    },
    {
      "cell_type": "code",
      "source": [
        "infected = infected.groupby('Country/Region').sum()\n",
        "recovered = recovered.groupby('Country/Region').sum()\n",
        "deaths = deaths.groupby('Country/Region').sum()\n",
        "\n",
        "infected.drop(columns=['Lat','Long'],inplace=True)\n",
        "recovered.drop(columns=['Lat','Long'],inplace=True)\n",
        "deaths.drop(columns=['Lat','Long'],inplace=True)\n"
      ],
      "metadata": {
        "id": "cedt-Qg0v_Pz"
      },
      "execution_count": 4,
      "outputs": []
    },
    {
      "cell_type": "markdown",
      "source": [
        "### $R_t$ by country"
      ],
      "metadata": {
        "id": "K9S9UjdxziSP"
      }
    },
    {
      "cell_type": "code",
      "source": [
        "ninfectedt=infected.T.diff()\n",
        "rt=ninfectedt.rolling(8).apply(lambda x: x[4:].sum()/x[:4].sum())\n",
        "rt.index = pd.to_datetime(rt.index)"
      ],
      "metadata": {
        "id": "2dffZAj7yBHb"
      },
      "execution_count": 5,
      "outputs": []
    },
    {
      "cell_type": "code",
      "source": [
        "rt['US'][rt.index<\"2020-05-01\"]"
      ],
      "metadata": {
        "colab": {
          "base_uri": "https://localhost:8080/"
        },
        "id": "hTYBeHt8LvoR",
        "outputId": "f06cce63-0e91-4762-fce7-9363c6e95d1b"
      },
      "execution_count": 6,
      "outputs": [
        {
          "output_type": "execute_result",
          "data": {
            "text/plain": [
              "2020-01-22         NaN\n",
              "2020-01-23         NaN\n",
              "2020-01-24         NaN\n",
              "2020-01-25         NaN\n",
              "2020-01-26         NaN\n",
              "                ...   \n",
              "2020-04-26    1.083912\n",
              "2020-04-27    0.961824\n",
              "2020-04-28    0.885074\n",
              "2020-04-29    0.818168\n",
              "2020-04-30    0.875529\n",
              "Name: US, Length: 100, dtype: float64"
            ]
          },
          "metadata": {},
          "execution_count": 6
        }
      ]
    },
    {
      "cell_type": "code",
      "source": [
        "focus_countries = ['US','Italy','United Kingdom','France','Mexico','India']\n",
        "for country in focus_countries:\n",
        "  rt[country][(rt.index > \"2020-01-31\") & (rt.index<\"2020-05-01\")]\\\n",
        "    .replace(np.inf,np.nan).fillna(method='pad')\\\n",
        "    .plot(figsize=(10,3),legend=country)\n",
        "plt.show()\n"
      ],
      "metadata": {
        "colab": {
          "base_uri": "https://localhost:8080/",
          "height": 246
        },
        "id": "GDE3g5z17Qh5",
        "outputId": "3a71f582-d64e-411f-dec9-63248a6b6227"
      },
      "execution_count": 60,
      "outputs": [
        {
          "output_type": "display_data",
          "data": {
            "text/plain": [
              "<Figure size 720x216 with 1 Axes>"
            ],
            "image/png": "[encoded data removed]"
          },
          "metadata": {
            "needs_background": "light"
          }
        }
      ]
    },
    {
      "cell_type": "code",
      "source": [
        ""
      ],
      "metadata": {
        "id": "07YWET4LKxyl"
      },
      "execution_count": null,
      "outputs": []
    },
    {
      "cell_type": "markdown",
      "source": [
        "### Deaths and Recoveries vs. Infections"
      ],
      "metadata": {
        "id": "nXoz1p9vNI3h"
      }
    },
    {
      "cell_type": "code",
      "source": [
        "stat_frames = {'infected':infected, 'recovered':recovered, 'deaths':deaths}\n",
        "index = pd.MultiIndex.from_product([infected.index, stat_frames.keys()],names=['country','stat'])"
      ],
      "metadata": {
        "id": "-WAOjzygOm7p"
      },
      "execution_count": 36,
      "outputs": []
    },
    {
      "cell_type": "code",
      "source": [
        "df = pd.DataFrame(columns=index)\n",
        "# FIXME: walking down an index is bad.\n",
        "for (country,stat) in index:\n",
        "  df[(country,stat)] = stat_frames[stat].loc[country]\n",
        "df.index = pd.to_datetime(df.index)\n",
        "# This doesn't work\n",
        "# df.loc[:,(slice(None),'infected')] = infected.T\n",
        "# df"
      ],
      "metadata": {
        "id": "s7QqrHWLQ3vY"
      },
      "execution_count": 42,
      "outputs": []
    },
    {
      "cell_type": "code",
      "source": [
        "plt.scatter(df['US','infected'],df['US','recovered'])"
      ],
      "metadata": {
        "colab": {
          "base_uri": "https://localhost:8080/",
          "height": 306
        },
        "id": "pV_RhWIhNL0Y",
        "outputId": "c413951e-9c27-4c76-f50f-2d8ab3ef8e73"
      },
      "execution_count": 44,
      "outputs": [
        {
          "output_type": "execute_result",
          "data": {
            "text/plain": [
              "<matplotlib.collections.PathCollection at 0x7f257826e5d0>"
            ]
          },
          "metadata": {},
          "execution_count": 44
        },
        {
          "output_type": "display_data",
          "data": {
            "text/plain": [
              "<Figure size 432x288 with 1 Axes>"
            ],
            "image/png": "[encoded data removed]"
          },
          "metadata": {
            "needs_background": "light"
          }
        }
      ]
    },
    {
      "cell_type": "markdown",
      "source": [
        "The problem is that recoveries are not reported after a certain time point.  We could clean the data to null out zeroes that follow a positive number, or just skip all rows with a zero for recoveries."
      ],
      "metadata": {
        "id": "gjTXlP_rVzHo"
      }
    },
    {
      "cell_type": "code",
      "source": [
        "# works!\n",
        "df['US'][df['US','recovered'] > 0]"
      ],
      "metadata": {
        "colab": {
          "base_uri": "https://localhost:8080/",
          "height": 424
        },
        "id": "n3fIjPXROEaz",
        "outputId": "5809d2eb-8929-4f7f-ce23-50dd6a734912"
      },
      "execution_count": 56,
      "outputs": [
        {
          "output_type": "execute_result",
          "data": {
            "text/plain": [
              "stat        infected  recovered  deaths\n",
              "2020-02-09        12          3       0\n",
              "2020-02-10        12          3       0\n",
              "2020-02-11        13          3       0\n",
              "2020-02-12        13          3       0\n",
              "2020-02-13        14          3       0\n",
              "...              ...        ...     ...\n",
              "2020-12-09  15516739    5889896  292047\n",
              "2020-12-10  15753683    5985047  295036\n",
              "2020-12-11  15992585    6135314  298393\n",
              "2020-12-12  16217120    6246605  300912\n",
              "2020-12-13  16408717    6298082  302593\n",
              "\n",
              "[309 rows x 3 columns]"
            ],
            "text/html": [
              "\n",
              "  <div id=\"df-d66f3990-11f9-4369-bb2d-c00e08e20022\">\n",
              "    <div class=\"colab-df-container\">\n",
              "      <div>\n",
              "<style scoped>\n",
              "    .dataframe tbody tr th:only-of-type {\n",
              "        vertical-align: middle;\n",
              "    }\n",
              "\n",
              "    .dataframe tbody tr th {\n",
              "        vertical-align: top;\n",
              "    }\n",
              "\n",
              "    .dataframe thead th {\n",
              "        text-align: right;\n",
              "    }\n",
              "</style>\n",
              "<table border=\"1\" class=\"dataframe\">\n",
              "  <thead>\n",
              "    <tr style=\"text-align: right;\">\n",
              "      <th>stat</th>\n",
              "      <th>infected</th>\n",
              "      <th>recovered</th>\n",
              "      <th>deaths</th>\n",
              "    </tr>\n",
              "  </thead>\n",
              "  <tbody>\n",
              "    <tr>\n",
              "      <th>2020-02-09</th>\n",
              "      <td>12</td>\n",
              "      <td>3</td>\n",
              "      <td>0</td>\n",
              "    </tr>\n",
              "    <tr>\n",
              "      <th>2020-02-10</th>\n",
              "      <td>12</td>\n",
              "      <td>3</td>\n",
              "      <td>0</td>\n",
              "    </tr>\n",
              "    <tr>\n",
              "      <th>2020-02-11</th>\n",
              "      <td>13</td>\n",
              "      <td>3</td>\n",
              "      <td>0</td>\n",
              "    </tr>\n",
              "    <tr>\n",
              "      <th>2020-02-12</th>\n",
              "      <td>13</td>\n",
              "      <td>3</td>\n",
              "      <td>0</td>\n",
              "    </tr>\n",
              "    <tr>\n",
              "      <th>2020-02-13</th>\n",
              "      <td>14</td>\n",
              "      <td>3</td>\n",
              "      <td>0</td>\n",
              "    </tr>\n",
              "    <tr>\n",
              "      <th>...</th>\n",
              "      <td>...</td>\n",
              "      <td>...</td>\n",
              "      <td>...</td>\n",
              "    </tr>\n",
              "    <tr>\n",
              "      <th>2020-12-09</th>\n",
              "      <td>15516739</td>\n",
              "      <td>5889896</td>\n",
              "      <td>292047</td>\n",
              "    </tr>\n",
              "    <tr>\n",
              "      <th>2020-12-10</th>\n",
              "      <td>15753683</td>\n",
              "      <td>5985047</td>\n",
              "      <td>295036</td>\n",
              "    </tr>\n",
              "    <tr>\n",
              "      <th>2020-12-11</th>\n",
              "      <td>15992585</td>\n",
              "      <td>6135314</td>\n",
              "      <td>298393</td>\n",
              "    </tr>\n",
              "    <tr>\n",
              "      <th>2020-12-12</th>\n",
              "      <td>16217120</td>\n",
              "      <td>6246605</td>\n",
              "      <td>300912</td>\n",
              "    </tr>\n",
              "    <tr>\n",
              "      <th>2020-12-13</th>\n",
              "      <td>16408717</td>\n",
              "      <td>6298082</td>\n",
              "      <td>302593</td>\n",
              "    </tr>\n",
              "  </tbody>\n",
              "</table>\n",
              "<p>309 rows × 3 columns</p>\n",
              "</div>\n",
              "      <button class=\"colab-df-convert\" onclick=\"convertToInteractive('df-d66f3990-11f9-4369-bb2d-c00e08e20022')\"\n",
              "              title=\"Convert this dataframe to an interactive table.\"\n",
              "              style=\"display:none;\">\n",
              "        \n",
              "  <svg xmlns=\"http://www.w3.org/2000/svg\" height=\"24px\"viewBox=\"0 0 24 24\"\n",
              "       width=\"24px\">\n",
              "    <path d=\"M0 0h24v24H0V0z\" fill=\"none\"/>\n",
              "    <path d=\"M18.56 5.44l.94 2.06.94-2.06 2.06-.94-2.06-.94-.94-2.06-.94 2.06-2.06.94zm-11 1L8.5 8.5l.94-2.06 2.06-.94-2.06-.94L8.5 2.5l-.94 2.06-2.06.94zm10 10l.94 2.06.94-2.06 2.06-.94-2.06-.94-.94-2.06-.94 2.06-2.06.94z\"/><path d=\"M17.41 7.96l-1.37-1.37c-.4-.4-.92-.59-1.43-.59-.52 0-1.04.2-1.43.59L10.3 9.45l-7.72 7.72c-.78.78-.78 2.05 0 2.83L4 21.41c.39.39.9.59 1.41.59.51 0 1.02-.2 1.41-.59l7.78-7.78 2.81-2.81c.8-.78.8-2.07 0-2.86zM5.41 20L4 18.59l7.72-7.72 1.47 1.35L5.41 20z\"/>\n",
              "  </svg>\n",
              "      </button>\n",
              "      \n",
              "  <style>\n",
              "    .colab-df-container {\n",
              "      display:flex;\n",
              "      flex-wrap:wrap;\n",
              "      gap: 12px;\n",
              "    }\n",
              "\n",
              "    .colab-df-convert {\n",
              "      background-color: #E8F0FE;\n",
              "      border: none;\n",
              "      border-radius: 50%;\n",
              "      cursor: pointer;\n",
              "      display: none;\n",
              "      fill: #1967D2;\n",
              "      height: 32px;\n",
              "      padding: 0 0 0 0;\n",
              "      width: 32px;\n",
              "    }\n",
              "\n",
              "    .colab-df-convert:hover {\n",
              "      background-color: #E2EBFA;\n",
              "      box-shadow: 0px 1px 2px rgba(60, 64, 67, 0.3), 0px 1px 3px 1px rgba(60, 64, 67, 0.15);\n",
              "      fill: #174EA6;\n",
              "    }\n",
              "\n",
              "    [theme=dark] .colab-df-convert {\n",
              "      background-color: #3B4455;\n",
              "      fill: #D2E3FC;\n",
              "    }\n",
              "\n",
              "    [theme=dark] .colab-df-convert:hover {\n",
              "      background-color: #434B5C;\n",
              "      box-shadow: 0px 1px 3px 1px rgba(0, 0, 0, 0.15);\n",
              "      filter: drop-shadow(0px 1px 2px rgba(0, 0, 0, 0.3));\n",
              "      fill: #FFFFFF;\n",
              "    }\n",
              "  </style>\n",
              "\n",
              "      <script>\n",
              "        const buttonEl =\n",
              "          document.querySelector('#df-d66f3990-11f9-4369-bb2d-c00e08e20022 button.colab-df-convert');\n",
              "        buttonEl.style.display =\n",
              "          google.colab.kernel.accessAllowed ? 'block' : 'none';\n",
              "\n",
              "        async function convertToInteractive(key) {\n",
              "          const element = document.querySelector('#df-d66f3990-11f9-4369-bb2d-c00e08e20022');\n",
              "          const dataTable =\n",
              "            await google.colab.kernel.invokeFunction('convertToInteractive',\n",
              "                                                     [key], {});\n",
              "          if (!dataTable) return;\n",
              "\n",
              "          const docLinkHtml = 'Like what you see? Visit the ' +\n",
              "            '<a target=\"_blank\" href=https://colab.research.google.com/notebooks/data_table.ipynb>data table notebook</a>'\n",
              "            + ' to learn more about interactive tables.';\n",
              "          element.innerHTML = '';\n",
              "          dataTable['output_type'] = 'display_data';\n",
              "          await google.colab.output.renderOutput(dataTable, element);\n",
              "          const docLink = document.createElement('div');\n",
              "          docLink.innerHTML = docLinkHtml;\n",
              "          element.appendChild(docLink);\n",
              "        }\n",
              "      </script>\n",
              "    </div>\n",
              "  </div>\n",
              "  "
            ]
          },
          "metadata": {},
          "execution_count": 56
        }
      ]
    },
    {
      "cell_type": "code",
      "source": [
        "df['US'][df['US','recovered'] > 0].plot(kind='scatter',x='infected',y='recovered')"
      ],
      "metadata": {
        "colab": {
          "base_uri": "https://localhost:8080/",
          "height": 307
        },
        "id": "W79KHi2VWE6H",
        "outputId": "ea065374-7709-407c-b55f-39deeef89067"
      },
      "execution_count": 59,
      "outputs": [
        {
          "output_type": "execute_result",
          "data": {
            "text/plain": [
              "<matplotlib.axes._subplots.AxesSubplot at 0x7f25780ae5d0>"
            ]
          },
          "metadata": {},
          "execution_count": 59
        },
        {
          "output_type": "display_data",
          "data": {
            "text/plain": [
              "<Figure size 432x288 with 1 Axes>"
            ],
            "image/png": "[encoded data removed]"
          },
          "metadata": {
            "needs_background": "light"
          }
        }
      ]
    },
    {
      "cell_type": "code",
      "source": [
        "for country in focus_countries:\n",
        "  df[country][df[country,'recovered'] > 0]\\\n",
        "    .plot(kind='scatter',x='infected',y='recovered',title=country)"
      ],
      "metadata": {
        "colab": {
          "base_uri": "https://localhost:8080/",
          "height": 1000
        },
        "id": "JBRBaEWyXN5H",
        "outputId": "466b468f-05c6-450e-9abd-37612b41338b"
      },
      "execution_count": 68,
      "outputs": [
        {
          "output_type": "display_data",
          "data": {
            "text/plain": [
              "<Figure size 432x288 with 1 Axes>"
            ],
            "image/png": "[encoded data removed]"
          },
          "metadata": {
            "needs_background": "light"
          }
        },
        {
          "output_type": "display_data",
          "data": {
            "text/plain": [
              "<Figure size 432x288 with 1 Axes>"
            ],
            "image/png": "[encoded data removed]"
          },
          "metadata": {
            "needs_background": "light"
          }
        },
        {
          "output_type": "display_data",
          "data": {
            "text/plain": [
              "<Figure size 432x288 with 1 Axes>"
            ],
            "image/png": "[encoded data removed]"
          },
          "metadata": {
            "needs_background": "light"
          }
        },
        {
          "output_type": "display_data",
          "data": {
            "text/plain": [
              "<Figure size 432x288 with 1 Axes>"
            ],
            "image/png": "[encoded data removed]"
          },
          "metadata": {
            "needs_background": "light"
          }
        },
        {
          "output_type": "display_data",
          "data": {
            "text/plain": [
              "<Figure size 432x288 with 1 Axes>"
            ],
            "image/png": "[encoded data removed]"
          },
          "metadata": {
            "needs_background": "light"
          }
        },
        {
          "output_type": "display_data",
          "data": {
            "text/plain": [
              "<Figure size 432x288 with 1 Axes>"
            ],
            "image/png": "[encoded data removed]"
          },
          "metadata": {
            "needs_background": "light"
          }
        }
      ]
    },
    {
      "cell_type": "code",
      "source": [
        "df['US'][df['US','recovered'] > 0].corr()"
      ],
      "metadata": {
        "colab": {
          "base_uri": "https://localhost:8080/",
          "height": 175
        },
        "id": "Xf9phMWEYc8x",
        "outputId": "fa01eed0-47db-4627-cb8a-fb980da7ed6a"
      },
      "execution_count": 69,
      "outputs": [
        {
          "output_type": "execute_result",
          "data": {
            "text/plain": [
              "stat       infected  recovered    deaths\n",
              "stat                                    \n",
              "infected   1.000000   0.997033  0.942283\n",
              "recovered  0.997033   1.000000  0.927651\n",
              "deaths     0.942283   0.927651  1.000000"
            ],
            "text/html": [
              "\n",
              "  <div id=\"df-0c3b54a1-f94f-439f-9318-edb7a86a00fb\">\n",
              "    <div class=\"colab-df-container\">\n",
              "      <div>\n",
              "<style scoped>\n",
              "    .dataframe tbody tr th:only-of-type {\n",
              "        vertical-align: middle;\n",
              "    }\n",
              "\n",
              "    .dataframe tbody tr th {\n",
              "        vertical-align: top;\n",
              "    }\n",
              "\n",
              "    .dataframe thead th {\n",
              "        text-align: right;\n",
              "    }\n",
              "</style>\n",
              "<table border=\"1\" class=\"dataframe\">\n",
              "  <thead>\n",
              "    <tr style=\"text-align: right;\">\n",
              "      <th>stat</th>\n",
              "      <th>infected</th>\n",
              "      <th>recovered</th>\n",
              "      <th>deaths</th>\n",
              "    </tr>\n",
              "    <tr>\n",
              "      <th>stat</th>\n",
              "      <th></th>\n",
              "      <th></th>\n",
              "      <th></th>\n",
              "    </tr>\n",
              "  </thead>\n",
              "  <tbody>\n",
              "    <tr>\n",
              "      <th>infected</th>\n",
              "      <td>1.000000</td>\n",
              "      <td>0.997033</td>\n",
              "      <td>0.942283</td>\n",
              "    </tr>\n",
              "    <tr>\n",
              "      <th>recovered</th>\n",
              "      <td>0.997033</td>\n",
              "      <td>1.000000</td>\n",
              "      <td>0.927651</td>\n",
              "    </tr>\n",
              "    <tr>\n",
              "      <th>deaths</th>\n",
              "      <td>0.942283</td>\n",
              "      <td>0.927651</td>\n",
              "      <td>1.000000</td>\n",
              "    </tr>\n",
              "  </tbody>\n",
              "</table>\n",
              "</div>\n",
              "      <button class=\"colab-df-convert\" onclick=\"convertToInteractive('df-0c3b54a1-f94f-439f-9318-edb7a86a00fb')\"\n",
              "              title=\"Convert this dataframe to an interactive table.\"\n",
              "              style=\"display:none;\">\n",
              "        \n",
              "  <svg xmlns=\"http://www.w3.org/2000/svg\" height=\"24px\"viewBox=\"0 0 24 24\"\n",
              "       width=\"24px\">\n",
              "    <path d=\"M0 0h24v24H0V0z\" fill=\"none\"/>\n",
              "    <path d=\"M18.56 5.44l.94 2.06.94-2.06 2.06-.94-2.06-.94-.94-2.06-.94 2.06-2.06.94zm-11 1L8.5 8.5l.94-2.06 2.06-.94-2.06-.94L8.5 2.5l-.94 2.06-2.06.94zm10 10l.94 2.06.94-2.06 2.06-.94-2.06-.94-.94-2.06-.94 2.06-2.06.94z\"/><path d=\"M17.41 7.96l-1.37-1.37c-.4-.4-.92-.59-1.43-.59-.52 0-1.04.2-1.43.59L10.3 9.45l-7.72 7.72c-.78.78-.78 2.05 0 2.83L4 21.41c.39.39.9.59 1.41.59.51 0 1.02-.2 1.41-.59l7.78-7.78 2.81-2.81c.8-.78.8-2.07 0-2.86zM5.41 20L4 18.59l7.72-7.72 1.47 1.35L5.41 20z\"/>\n",
              "  </svg>\n",
              "      </button>\n",
              "      \n",
              "  <style>\n",
              "    .colab-df-container {\n",
              "      display:flex;\n",
              "      flex-wrap:wrap;\n",
              "      gap: 12px;\n",
              "    }\n",
              "\n",
              "    .colab-df-convert {\n",
              "      background-color: #E8F0FE;\n",
              "      border: none;\n",
              "      border-radius: 50%;\n",
              "      cursor: pointer;\n",
              "      display: none;\n",
              "      fill: #1967D2;\n",
              "      height: 32px;\n",
              "      padding: 0 0 0 0;\n",
              "      width: 32px;\n",
              "    }\n",
              "\n",
              "    .colab-df-convert:hover {\n",
              "      background-color: #E2EBFA;\n",
              "      box-shadow: 0px 1px 2px rgba(60, 64, 67, 0.3), 0px 1px 3px 1px rgba(60, 64, 67, 0.15);\n",
              "      fill: #174EA6;\n",
              "    }\n",
              "\n",
              "    [theme=dark] .colab-df-convert {\n",
              "      background-color: #3B4455;\n",
              "      fill: #D2E3FC;\n",
              "    }\n",
              "\n",
              "    [theme=dark] .colab-df-convert:hover {\n",
              "      background-color: #434B5C;\n",
              "      box-shadow: 0px 1px 3px 1px rgba(0, 0, 0, 0.15);\n",
              "      filter: drop-shadow(0px 1px 2px rgba(0, 0, 0, 0.3));\n",
              "      fill: #FFFFFF;\n",
              "    }\n",
              "  </style>\n",
              "\n",
              "      <script>\n",
              "        const buttonEl =\n",
              "          document.querySelector('#df-0c3b54a1-f94f-439f-9318-edb7a86a00fb button.colab-df-convert');\n",
              "        buttonEl.style.display =\n",
              "          google.colab.kernel.accessAllowed ? 'block' : 'none';\n",
              "\n",
              "        async function convertToInteractive(key) {\n",
              "          const element = document.querySelector('#df-0c3b54a1-f94f-439f-9318-edb7a86a00fb');\n",
              "          const dataTable =\n",
              "            await google.colab.kernel.invokeFunction('convertToInteractive',\n",
              "                                                     [key], {});\n",
              "          if (!dataTable) return;\n",
              "\n",
              "          const docLinkHtml = 'Like what you see? Visit the ' +\n",
              "            '<a target=\"_blank\" href=https://colab.research.google.com/notebooks/data_table.ipynb>data table notebook</a>'\n",
              "            + ' to learn more about interactive tables.';\n",
              "          element.innerHTML = '';\n",
              "          dataTable['output_type'] = 'display_data';\n",
              "          await google.colab.output.renderOutput(dataTable, element);\n",
              "          const docLink = document.createElement('div');\n",
              "          docLink.innerHTML = docLinkHtml;\n",
              "          element.appendChild(docLink);\n",
              "        }\n",
              "      </script>\n",
              "    </div>\n",
              "  </div>\n",
              "  "
            ]
          },
          "metadata": {},
          "execution_count": 69
        }
      ]
    },
    {
      "cell_type": "code",
      "source": [
        "for country in focus_countries:\n",
        "  print(\"{}:\\n\".format(country))\n",
        "  print(df[country][df[country,'recovered'] > 0].corr())\n",
        "  print(\"\\n\")"
      ],
      "metadata": {
        "colab": {
          "base_uri": "https://localhost:8080/"
        },
        "id": "qKPjYyvKZwEo",
        "outputId": "29f83d12-d9c6-4d26-d0b0-f542d56cc8fb"
      },
      "execution_count": 77,
      "outputs": [
        {
          "output_type": "stream",
          "name": "stdout",
          "text": [
            "US:\n",
            "\n",
            "stat       infected  recovered    deaths\n",
            "stat                                    \n",
            "infected   1.000000   0.997033  0.942283\n",
            "recovered  0.997033   1.000000  0.927651\n",
            "deaths     0.942283   0.927651  1.000000\n",
            "\n",
            "\n",
            "Italy:\n",
            "\n",
            "stat       infected  recovered    deaths\n",
            "stat                                    \n",
            "infected   1.000000   0.989472  0.986017\n",
            "recovered  0.989472   1.000000  0.978232\n",
            "deaths     0.986017   0.978232  1.000000\n",
            "\n",
            "\n",
            "United Kingdom:\n",
            "\n",
            "stat       infected  recovered    deaths\n",
            "stat                                    \n",
            "infected   1.000000   0.981769  0.971257\n",
            "recovered  0.981769   1.000000  0.958361\n",
            "deaths     0.971257   0.958361  1.000000\n",
            "\n",
            "\n",
            "France:\n",
            "\n",
            "stat       infected  recovered    deaths\n",
            "stat                                    \n",
            "infected   1.000000   0.988292  0.978801\n",
            "recovered  0.988292   1.000000  0.992167\n",
            "deaths     0.978801   0.992167  1.000000\n",
            "\n",
            "\n",
            "Mexico:\n",
            "\n",
            "stat       infected  recovered    deaths\n",
            "stat                                    \n",
            "infected   1.000000   0.999174  0.997741\n",
            "recovered  0.999174   1.000000  0.998651\n",
            "deaths     0.997741   0.998651  1.000000\n",
            "\n",
            "\n",
            "India:\n",
            "\n",
            "stat       infected  recovered    deaths\n",
            "stat                                    \n",
            "infected   1.000000   0.997343  0.993138\n",
            "recovered  0.997343   1.000000  0.996574\n",
            "deaths     0.993138   0.996574  1.000000\n",
            "\n",
            "\n"
          ]
        }
      ]
    },
    {
      "cell_type": "markdown",
      "source": [
        "Strong correlation, obviously"
      ],
      "metadata": {
        "id": "J1X68tdTbHSj"
      }
    },
    {
      "cell_type": "markdown",
      "source": [
        "### Correlation of death rate to infection rate"
      ],
      "metadata": {
        "id": "zb7mOdGS3s_S"
      }
    },
    {
      "cell_type": "markdown",
      "source": [
        "I want to add the infection rate and death rate to the main dataframe, smartly."
      ],
      "metadata": {
        "id": "-ViEQun23yws"
      }
    },
    {
      "cell_type": "code",
      "source": [
        "index.unique(level=\"country\")"
      ],
      "metadata": {
        "colab": {
          "base_uri": "https://localhost:8080/"
        },
        "id": "BeLo6iLharyZ",
        "outputId": "eb2f3537-cf00-489a-ac25-2e39985b4dbf"
      },
      "execution_count": 103,
      "outputs": [
        {
          "output_type": "execute_result",
          "data": {
            "text/plain": [
              "Index(['Afghanistan', 'Albania', 'Algeria', 'Andorra', 'Angola', 'Antarctica',\n",
              "       'Antigua and Barbuda', 'Argentina', 'Armenia', 'Australia',\n",
              "       ...\n",
              "       'Uruguay', 'Uzbekistan', 'Vanuatu', 'Venezuela', 'Vietnam',\n",
              "       'West Bank and Gaza', 'Winter Olympics 2022', 'Yemen', 'Zambia',\n",
              "       'Zimbabwe'],\n",
              "      dtype='object', name='country', length=199)"
            ]
          },
          "metadata": {},
          "execution_count": 103
        }
      ]
    },
    {
      "cell_type": "code",
      "source": [
        "ndf=pd.DataFrame(\n",
        "    index=df.index,\n",
        "    columns=pd.MultiIndex.from_product(\n",
        "        [df.columns.unique(level=\"country\"),\n",
        "        [\"ninfected\",\"ndeaths\"]],\n",
        "        names=[\"country\",\"stat\"]\n",
        "    ))\n",
        "ndf = ndf.swaplevel(axis=\"columns\")\n",
        "ndf['ninfected'] = df.swaplevel(axis=\"columns\")['infected'].diff()\n",
        "ndf['ndeaths'] = df.swaplevel(axis=\"columns\")['deaths'].diff()\n",
        "ndf = ndf.swaplevel(axis=\"columns\")\n",
        "df = df.join(ndf)"
      ],
      "metadata": {
        "id": "BtEXgYPI1iF8"
      },
      "execution_count": 123,
      "outputs": []
    },
    {
      "cell_type": "code",
      "source": [
        "fig,axs = plt.subplots(2)\n",
        "for i,stat in enumerate(['ninfected','ndeaths']):\n",
        "  df['US',stat]\\\n",
        "    [df.index < \"2021-01-01\"]\\\n",
        "    .rolling(window=7).mean()\\\n",
        "    .plot(ax=axs[i])\n",
        "fig.show()"
      ],
      "metadata": {
        "colab": {
          "base_uri": "https://localhost:8080/",
          "height": 277
        },
        "id": "v7_W9VRx5VcO",
        "outputId": "c244395d-3048-4a3c-f44b-304549f126d2"
      },
      "execution_count": 143,
      "outputs": [
        {
          "output_type": "display_data",
          "data": {
            "text/plain": [
              "<Figure size 432x288 with 2 Axes>"
            ],
            "image/png": "[encoded data removed]"
          },
          "metadata": {
            "needs_background": "light"
          }
        }
      ]
    },
    {
      "cell_type": "code",
      "source": [
        "(df['US','ninfected']/df['US','infected']).plot()\n",
        "(df['US','ndeaths']/df['US','deaths']).plot()\n",
        "plt.ylim(0,0.2)\n",
        "plt.show()"
      ],
      "metadata": {
        "colab": {
          "base_uri": "https://localhost:8080/",
          "height": 281
        },
        "id": "ziiWla9v8Ckh",
        "outputId": "08fe764f-d7ab-455b-ff5c-4998aeae6ad9"
      },
      "execution_count": 147,
      "outputs": [
        {
          "output_type": "display_data",
          "data": {
            "text/plain": [
              "<Figure size 432x288 with 1 Axes>"
            ],
            "image/png": "[encoded data removed]"
          },
          "metadata": {
            "needs_background": "light"
          }
        }
      ]
    },
    {
      "cell_type": "markdown",
      "source": [
        "You can finally see a lag between %infected and %deaths"
      ],
      "metadata": {
        "id": "dpXht2u9JSvm"
      }
    },
    {
      "cell_type": "code",
      "source": [
        "fig, axs = plt.subplots(3,2,sharex=True,sharey=True)\n",
        "fig.set_size_inches(10,10)\n",
        "for i,country in enumerate(focus_countries):\n",
        "  ax = axs[i%3,i%2]\n",
        "  for stat,shift in [('infected',0),('deaths',6)]:\n",
        "    (df[country,\"n\" + stat].rolling(window=7).mean()/\n",
        "    df[country,stat].rolling(window=7).mean())\\\n",
        "      [(df.index >= \"2020-03-01\") & (df.index <= \"2020-07-31\")]\\\n",
        "      .shift(periods=-shift)\\\n",
        "      .plot(ax=ax)\n",
        "    ax.set_ylim(0,0.2)\n",
        "    ax.set_title(country)\n",
        "fig.tight_layout()\n",
        "fig.show()"
      ],
      "metadata": {
        "colab": {
          "base_uri": "https://localhost:8080/",
          "height": 729
        },
        "id": "_UUiR2Cn_Ceo",
        "outputId": "bb25919c-890c-4bf7-e452-0c8362a16a1f"
      },
      "execution_count": 214,
      "outputs": [
        {
          "output_type": "display_data",
          "data": {
            "text/plain": [
              "<Figure size 720x720 with 6 Axes>"
            ],
            "image/png": "[encoded data removed]"
          },
          "metadata": {
            "needs_background": "light"
          }
        }
      ]
    },
    {
      "cell_type": "markdown",
      "source": [
        "Can we find the time shift which minimizes the distance between the curves?"
      ],
      "metadata": {
        "id": "0iphMq63b4Fz"
      }
    },
    {
      "cell_type": "code",
      "source": [
        "dists = pd.DataFrame(index=range(30),columns=focus_countries)\n",
        "for country in dists.columns:\n",
        "  d1 = df[country,\"ninfected\"].rolling(window=7).mean()/df[country,\"infected\"].rolling(window=7).mean()\n",
        "  d2 = df[country,\"ndeaths\"].rolling(window=7).mean()/df[country,\"deaths\"].rolling(window=7).mean()\n",
        "  for i in dists.index:  \n",
        "    dists.loc[i,country] = np.linalg.norm((d1-d2.shift(periods=i)).dropna())\n",
        "dists"
      ],
      "metadata": {
        "colab": {
          "base_uri": "https://localhost:8080/",
          "height": 990
        },
        "id": "ZIVE8EZ9KYb0",
        "outputId": "8015d6ce-176d-4d7a-b105-289a7f82930e"
      },
      "execution_count": 211,
      "outputs": [
        {
          "output_type": "execute_result",
          "data": {
            "text/plain": [
              "          US     Italy United Kingdom    France    Mexico     India\n",
              "0   1.225247  0.662367       1.118526  1.410764  0.985459  1.079376\n",
              "1   1.144232  0.555291       1.147547   1.43859  1.029551  1.070904\n",
              "2   1.045551  0.623453        1.17034  1.467228  1.059926  1.073687\n",
              "3   1.004287  0.769957       1.169836  1.500591  1.086432  1.068655\n",
              "4   0.995561  0.868988       1.163024   1.53921  1.122307  1.078481\n",
              "5   0.971232  0.936333       1.160088  1.567385  1.147052  1.088113\n",
              "6   1.025364  0.988476       1.176714  1.580921  1.162572  1.083523\n",
              "7   1.047155  1.049347       1.211185  1.585894  1.173508   1.07626\n",
              "8   1.096194  1.101318       1.248976  1.565408  1.184059  1.053009\n",
              "9     1.1391  1.133307       1.279623   1.54172  1.200434  1.030664\n",
              "10  1.154015   1.18556       1.307469  1.492638  1.219511  1.011771\n",
              "11  1.158127   1.22306        1.33338   1.42441  1.239426   1.02323\n",
              "12  1.176039  1.254363       1.357507   1.32342  1.254108  1.030755\n",
              "13  1.195292  1.282575       1.380104  1.285674  1.269093  1.060079\n",
              "14  1.203819  1.309444       1.399941  1.253345  1.286094  1.069645\n",
              "15  1.227146  1.330757       1.419171  1.274278  1.297317  1.096532\n",
              "16  1.208926  1.355187       1.435211  1.276756  1.304696  1.112365\n",
              "17   1.20562  1.378628       1.448964  1.306421  1.308666  1.136552\n",
              "18  1.209062  1.409714       1.468171  1.302423  1.310334  1.148481\n",
              "19  1.218539  1.428502       1.488567  1.288504  1.314184  1.137653\n",
              "20  1.235147  1.450977       1.508715  1.284795  1.321816  1.130034\n",
              "21  1.271627  1.475529        1.53057  1.281701  1.333086  1.110447\n",
              "22  1.302148  1.498617       1.553238   1.31098  1.342308   1.10977\n",
              "23  1.337958  1.523545       1.574617  1.328848  1.353288  1.137659\n",
              "24  1.375273  1.548027       1.593635  1.349571  1.364433  1.132299\n",
              "25  1.410765  1.568297       1.612067  1.379277  1.376821  1.136451\n",
              "26  1.439615  1.589556       1.630339   1.41782  1.387158  1.138575\n",
              "27  1.472297  1.608575       1.648672  1.411313  1.394933  1.162924\n",
              "28  1.499167  1.627187       1.666277  1.446153  1.399779  1.188721\n",
              "29  1.529022  1.647433       1.683611   1.47142  1.404404  1.205439"
            ],
            "text/html": [
              "\n",
              "  <div id=\"df-2e2d0098-2d62-427f-ace9-b41fcf46b848\">\n",
              "    <div class=\"colab-df-container\">\n",
              "      <div>\n",
              "<style scoped>\n",
              "    .dataframe tbody tr th:only-of-type {\n",
              "        vertical-align: middle;\n",
              "    }\n",
              "\n",
              "    .dataframe tbody tr th {\n",
              "        vertical-align: top;\n",
              "    }\n",
              "\n",
              "    .dataframe thead th {\n",
              "        text-align: right;\n",
              "    }\n",
              "</style>\n",
              "<table border=\"1\" class=\"dataframe\">\n",
              "  <thead>\n",
              "    <tr style=\"text-align: right;\">\n",
              "      <th></th>\n",
              "      <th>US</th>\n",
              "      <th>Italy</th>\n",
              "      <th>United Kingdom</th>\n",
              "      <th>France</th>\n",
              "      <th>Mexico</th>\n",
              "      <th>India</th>\n",
              "    </tr>\n",
              "  </thead>\n",
              "  <tbody>\n",
              "    <tr>\n",
              "      <th>0</th>\n",
              "      <td>1.225247</td>\n",
              "      <td>0.662367</td>\n",
              "      <td>1.118526</td>\n",
              "      <td>1.410764</td>\n",
              "      <td>0.985459</td>\n",
              "      <td>1.079376</td>\n",
              "    </tr>\n",
              "    <tr>\n",
              "      <th>1</th>\n",
              "      <td>1.144232</td>\n",
              "      <td>0.555291</td>\n",
              "      <td>1.147547</td>\n",
              "      <td>1.43859</td>\n",
              "      <td>1.029551</td>\n",
              "      <td>1.070904</td>\n",
              "    </tr>\n",
              "    <tr>\n",
              "      <th>2</th>\n",
              "      <td>1.045551</td>\n",
              "      <td>0.623453</td>\n",
              "      <td>1.17034</td>\n",
              "      <td>1.467228</td>\n",
              "      <td>1.059926</td>\n",
              "      <td>1.073687</td>\n",
              "    </tr>\n",
              "    <tr>\n",
              "      <th>3</th>\n",
              "      <td>1.004287</td>\n",
              "      <td>0.769957</td>\n",
              "      <td>1.169836</td>\n",
              "      <td>1.500591</td>\n",
              "      <td>1.086432</td>\n",
              "      <td>1.068655</td>\n",
              "    </tr>\n",
              "    <tr>\n",
              "      <th>4</th>\n",
              "      <td>0.995561</td>\n",
              "      <td>0.868988</td>\n",
              "      <td>1.163024</td>\n",
              "      <td>1.53921</td>\n",
              "      <td>1.122307</td>\n",
              "      <td>1.078481</td>\n",
              "    </tr>\n",
              "    <tr>\n",
              "      <th>5</th>\n",
              "      <td>0.971232</td>\n",
              "      <td>0.936333</td>\n",
              "      <td>1.160088</td>\n",
              "      <td>1.567385</td>\n",
              "      <td>1.147052</td>\n",
              "      <td>1.088113</td>\n",
              "    </tr>\n",
              "    <tr>\n",
              "      <th>6</th>\n",
              "      <td>1.025364</td>\n",
              "      <td>0.988476</td>\n",
              "      <td>1.176714</td>\n",
              "      <td>1.580921</td>\n",
              "      <td>1.162572</td>\n",
              "      <td>1.083523</td>\n",
              "    </tr>\n",
              "    <tr>\n",
              "      <th>7</th>\n",
              "      <td>1.047155</td>\n",
              "      <td>1.049347</td>\n",
              "      <td>1.211185</td>\n",
              "      <td>1.585894</td>\n",
              "      <td>1.173508</td>\n",
              "      <td>1.07626</td>\n",
              "    </tr>\n",
              "    <tr>\n",
              "      <th>8</th>\n",
              "      <td>1.096194</td>\n",
              "      <td>1.101318</td>\n",
              "      <td>1.248976</td>\n",
              "      <td>1.565408</td>\n",
              "      <td>1.184059</td>\n",
              "      <td>1.053009</td>\n",
              "    </tr>\n",
              "    <tr>\n",
              "      <th>9</th>\n",
              "      <td>1.1391</td>\n",
              "      <td>1.133307</td>\n",
              "      <td>1.279623</td>\n",
              "      <td>1.54172</td>\n",
              "      <td>1.200434</td>\n",
              "      <td>1.030664</td>\n",
              "    </tr>\n",
              "    <tr>\n",
              "      <th>10</th>\n",
              "      <td>1.154015</td>\n",
              "      <td>1.18556</td>\n",
              "      <td>1.307469</td>\n",
              "      <td>1.492638</td>\n",
              "      <td>1.219511</td>\n",
              "      <td>1.011771</td>\n",
              "    </tr>\n",
              "    <tr>\n",
              "      <th>11</th>\n",
              "      <td>1.158127</td>\n",
              "      <td>1.22306</td>\n",
              "      <td>1.33338</td>\n",
              "      <td>1.42441</td>\n",
              "      <td>1.239426</td>\n",
              "      <td>1.02323</td>\n",
              "    </tr>\n",
              "    <tr>\n",
              "      <th>12</th>\n",
              "      <td>1.176039</td>\n",
              "      <td>1.254363</td>\n",
              "      <td>1.357507</td>\n",
              "      <td>1.32342</td>\n",
              "      <td>1.254108</td>\n",
              "      <td>1.030755</td>\n",
              "    </tr>\n",
              "    <tr>\n",
              "      <th>13</th>\n",
              "      <td>1.195292</td>\n",
              "      <td>1.282575</td>\n",
              "      <td>1.380104</td>\n",
              "      <td>1.285674</td>\n",
              "      <td>1.269093</td>\n",
              "      <td>1.060079</td>\n",
              "    </tr>\n",
              "    <tr>\n",
              "      <th>14</th>\n",
              "      <td>1.203819</td>\n",
              "      <td>1.309444</td>\n",
              "      <td>1.399941</td>\n",
              "      <td>1.253345</td>\n",
              "      <td>1.286094</td>\n",
              "      <td>1.069645</td>\n",
              "    </tr>\n",
              "    <tr>\n",
              "      <th>15</th>\n",
              "      <td>1.227146</td>\n",
              "      <td>1.330757</td>\n",
              "      <td>1.419171</td>\n",
              "      <td>1.274278</td>\n",
              "      <td>1.297317</td>\n",
              "      <td>1.096532</td>\n",
              "    </tr>\n",
              "    <tr>\n",
              "      <th>16</th>\n",
              "      <td>1.208926</td>\n",
              "      <td>1.355187</td>\n",
              "      <td>1.435211</td>\n",
              "      <td>1.276756</td>\n",
              "      <td>1.304696</td>\n",
              "      <td>1.112365</td>\n",
              "    </tr>\n",
              "    <tr>\n",
              "      <th>17</th>\n",
              "      <td>1.20562</td>\n",
              "      <td>1.378628</td>\n",
              "      <td>1.448964</td>\n",
              "      <td>1.306421</td>\n",
              "      <td>1.308666</td>\n",
              "      <td>1.136552</td>\n",
              "    </tr>\n",
              "    <tr>\n",
              "      <th>18</th>\n",
              "      <td>1.209062</td>\n",
              "      <td>1.409714</td>\n",
              "      <td>1.468171</td>\n",
              "      <td>1.302423</td>\n",
              "      <td>1.310334</td>\n",
              "      <td>1.148481</td>\n",
              "    </tr>\n",
              "    <tr>\n",
              "      <th>19</th>\n",
              "      <td>1.218539</td>\n",
              "      <td>1.428502</td>\n",
              "      <td>1.488567</td>\n",
              "      <td>1.288504</td>\n",
              "      <td>1.314184</td>\n",
              "      <td>1.137653</td>\n",
              "    </tr>\n",
              "    <tr>\n",
              "      <th>20</th>\n",
              "      <td>1.235147</td>\n",
              "      <td>1.450977</td>\n",
              "      <td>1.508715</td>\n",
              "      <td>1.284795</td>\n",
              "      <td>1.321816</td>\n",
              "      <td>1.130034</td>\n",
              "    </tr>\n",
              "    <tr>\n",
              "      <th>21</th>\n",
              "      <td>1.271627</td>\n",
              "      <td>1.475529</td>\n",
              "      <td>1.53057</td>\n",
              "      <td>1.281701</td>\n",
              "      <td>1.333086</td>\n",
              "      <td>1.110447</td>\n",
              "    </tr>\n",
              "    <tr>\n",
              "      <th>22</th>\n",
              "      <td>1.302148</td>\n",
              "      <td>1.498617</td>\n",
              "      <td>1.553238</td>\n",
              "      <td>1.31098</td>\n",
              "      <td>1.342308</td>\n",
              "      <td>1.10977</td>\n",
              "    </tr>\n",
              "    <tr>\n",
              "      <th>23</th>\n",
              "      <td>1.337958</td>\n",
              "      <td>1.523545</td>\n",
              "      <td>1.574617</td>\n",
              "      <td>1.328848</td>\n",
              "      <td>1.353288</td>\n",
              "      <td>1.137659</td>\n",
              "    </tr>\n",
              "    <tr>\n",
              "      <th>24</th>\n",
              "      <td>1.375273</td>\n",
              "      <td>1.548027</td>\n",
              "      <td>1.593635</td>\n",
              "      <td>1.349571</td>\n",
              "      <td>1.364433</td>\n",
              "      <td>1.132299</td>\n",
              "    </tr>\n",
              "    <tr>\n",
              "      <th>25</th>\n",
              "      <td>1.410765</td>\n",
              "      <td>1.568297</td>\n",
              "      <td>1.612067</td>\n",
              "      <td>1.379277</td>\n",
              "      <td>1.376821</td>\n",
              "      <td>1.136451</td>\n",
              "    </tr>\n",
              "    <tr>\n",
              "      <th>26</th>\n",
              "      <td>1.439615</td>\n",
              "      <td>1.589556</td>\n",
              "      <td>1.630339</td>\n",
              "      <td>1.41782</td>\n",
              "      <td>1.387158</td>\n",
              "      <td>1.138575</td>\n",
              "    </tr>\n",
              "    <tr>\n",
              "      <th>27</th>\n",
              "      <td>1.472297</td>\n",
              "      <td>1.608575</td>\n",
              "      <td>1.648672</td>\n",
              "      <td>1.411313</td>\n",
              "      <td>1.394933</td>\n",
              "      <td>1.162924</td>\n",
              "    </tr>\n",
              "    <tr>\n",
              "      <th>28</th>\n",
              "      <td>1.499167</td>\n",
              "      <td>1.627187</td>\n",
              "      <td>1.666277</td>\n",
              "      <td>1.446153</td>\n",
              "      <td>1.399779</td>\n",
              "      <td>1.188721</td>\n",
              "    </tr>\n",
              "    <tr>\n",
              "      <th>29</th>\n",
              "      <td>1.529022</td>\n",
              "      <td>1.647433</td>\n",
              "      <td>1.683611</td>\n",
              "      <td>1.47142</td>\n",
              "      <td>1.404404</td>\n",
              "      <td>1.205439</td>\n",
              "    </tr>\n",
              "  </tbody>\n",
              "</table>\n",
              "</div>\n",
              "      <button class=\"colab-df-convert\" onclick=\"convertToInteractive('df-2e2d0098-2d62-427f-ace9-b41fcf46b848')\"\n",
              "              title=\"Convert this dataframe to an interactive table.\"\n",
              "              style=\"display:none;\">\n",
              "        \n",
              "  <svg xmlns=\"http://www.w3.org/2000/svg\" height=\"24px\"viewBox=\"0 0 24 24\"\n",
              "       width=\"24px\">\n",
              "    <path d=\"M0 0h24v24H0V0z\" fill=\"none\"/>\n",
              "    <path d=\"M18.56 5.44l.94 2.06.94-2.06 2.06-.94-2.06-.94-.94-2.06-.94 2.06-2.06.94zm-11 1L8.5 8.5l.94-2.06 2.06-.94-2.06-.94L8.5 2.5l-.94 2.06-2.06.94zm10 10l.94 2.06.94-2.06 2.06-.94-2.06-.94-.94-2.06-.94 2.06-2.06.94z\"/><path d=\"M17.41 7.96l-1.37-1.37c-.4-.4-.92-.59-1.43-.59-.52 0-1.04.2-1.43.59L10.3 9.45l-7.72 7.72c-.78.78-.78 2.05 0 2.83L4 21.41c.39.39.9.59 1.41.59.51 0 1.02-.2 1.41-.59l7.78-7.78 2.81-2.81c.8-.78.8-2.07 0-2.86zM5.41 20L4 18.59l7.72-7.72 1.47 1.35L5.41 20z\"/>\n",
              "  </svg>\n",
              "      </button>\n",
              "      \n",
              "  <style>\n",
              "    .colab-df-container {\n",
              "      display:flex;\n",
              "      flex-wrap:wrap;\n",
              "      gap: 12px;\n",
              "    }\n",
              "\n",
              "    .colab-df-convert {\n",
              "      background-color: #E8F0FE;\n",
              "      border: none;\n",
              "      border-radius: 50%;\n",
              "      cursor: pointer;\n",
              "      display: none;\n",
              "      fill: #1967D2;\n",
              "      height: 32px;\n",
              "      padding: 0 0 0 0;\n",
              "      width: 32px;\n",
              "    }\n",
              "\n",
              "    .colab-df-convert:hover {\n",
              "      background-color: #E2EBFA;\n",
              "      box-shadow: 0px 1px 2px rgba(60, 64, 67, 0.3), 0px 1px 3px 1px rgba(60, 64, 67, 0.15);\n",
              "      fill: #174EA6;\n",
              "    }\n",
              "\n",
              "    [theme=dark] .colab-df-convert {\n",
              "      background-color: #3B4455;\n",
              "      fill: #D2E3FC;\n",
              "    }\n",
              "\n",
              "    [theme=dark] .colab-df-convert:hover {\n",
              "      background-color: #434B5C;\n",
              "      box-shadow: 0px 1px 3px 1px rgba(0, 0, 0, 0.15);\n",
              "      filter: drop-shadow(0px 1px 2px rgba(0, 0, 0, 0.3));\n",
              "      fill: #FFFFFF;\n",
              "    }\n",
              "  </style>\n",
              "\n",
              "      <script>\n",
              "        const buttonEl =\n",
              "          document.querySelector('#df-2e2d0098-2d62-427f-ace9-b41fcf46b848 button.colab-df-convert');\n",
              "        buttonEl.style.display =\n",
              "          google.colab.kernel.accessAllowed ? 'block' : 'none';\n",
              "\n",
              "        async function convertToInteractive(key) {\n",
              "          const element = document.querySelector('#df-2e2d0098-2d62-427f-ace9-b41fcf46b848');\n",
              "          const dataTable =\n",
              "            await google.colab.kernel.invokeFunction('convertToInteractive',\n",
              "                                                     [key], {});\n",
              "          if (!dataTable) return;\n",
              "\n",
              "          const docLinkHtml = 'Like what you see? Visit the ' +\n",
              "            '<a target=\"_blank\" href=https://colab.research.google.com/notebooks/data_table.ipynb>data table notebook</a>'\n",
              "            + ' to learn more about interactive tables.';\n",
              "          element.innerHTML = '';\n",
              "          dataTable['output_type'] = 'display_data';\n",
              "          await google.colab.output.renderOutput(dataTable, element);\n",
              "          const docLink = document.createElement('div');\n",
              "          docLink.innerHTML = docLinkHtml;\n",
              "          element.appendChild(docLink);\n",
              "        }\n",
              "      </script>\n",
              "    </div>\n",
              "  </div>\n",
              "  "
            ]
          },
          "metadata": {},
          "execution_count": 211
        }
      ]
    },
    {
      "cell_type": "code",
      "source": [
        "[np.array(dists[c]).argmin() for c in dists.columns]"
      ],
      "metadata": {
        "colab": {
          "base_uri": "https://localhost:8080/"
        },
        "id": "yrjaOoQ2Yhw_",
        "outputId": "3a3db3a5-43f5-4548-852a-c8dc6ea39214"
      },
      "execution_count": 226,
      "outputs": [
        {
          "output_type": "execute_result",
          "data": {
            "text/plain": [
              "[5, 1, 0, 14, 0, 10]"
            ]
          },
          "metadata": {},
          "execution_count": 226
        }
      ]
    },
    {
      "cell_type": "markdown",
      "source": [
        "Not that convincing. Maybe try an ordinary correlation?"
      ],
      "metadata": {
        "id": "zvS0jULjek6m"
      }
    },
    {
      "cell_type": "code",
      "source": [
        "corrs = pd.DataFrame(\n",
        "    index=pd.Index(range(30),name=\"days\"),\n",
        "    columns=df.columns.unique(level=\"country\"))\n",
        "for country in corrs.columns:\n",
        "  d1 = df[country,\"ninfected\"].rolling(window=7).mean()\n",
        "  d2 = df[country,\"ndeaths\"].rolling(window=7).mean()\n",
        "  for i in dists.index:  \n",
        "    corrs.loc[i,country] = d1.corr(d2.shift(periods=-i))\n",
        "corrs.dropna(axis=1,inplace=True)\n",
        "corrs"
      ],
      "metadata": {
        "colab": {
          "base_uri": "https://localhost:8080/",
          "height": 1000
        },
        "id": "aAnkfNcuZzS0",
        "outputId": "c42bbaae-7815-4923-bd2b-7a0b39c62dad"
      },
      "execution_count": 254,
      "outputs": [
        {
          "output_type": "execute_result",
          "data": {
            "text/plain": [
              "country Afghanistan   Albania   Algeria   Andorra    Angola  \\\n",
              "days                                                          \n",
              "0          0.900041  0.628451  0.654604  0.112316  0.512038   \n",
              "1           0.90707  0.636198  0.664646  0.103853  0.513481   \n",
              "2          0.913959  0.644678  0.673419  0.101811  0.515937   \n",
              "3          0.919658  0.651519  0.680907  0.104622  0.518573   \n",
              "4          0.924646  0.657642   0.68726   0.10915  0.521069   \n",
              "5          0.928353  0.662813  0.692337  0.110567  0.523803   \n",
              "6          0.931546  0.667272   0.69637  0.108344  0.526345   \n",
              "7          0.934377  0.670716  0.699375  0.105764  0.526858   \n",
              "8           0.93765  0.674647  0.701319  0.113945  0.528741   \n",
              "9          0.939136  0.677184  0.702056  0.121334  0.526313   \n",
              "10         0.938805  0.679452  0.701522  0.123206  0.521017   \n",
              "11         0.937452    0.6809  0.699731  0.122279  0.512983   \n",
              "12         0.934473  0.681956  0.696824   0.12094  0.500438   \n",
              "13         0.930002  0.681843  0.692816  0.121809   0.48522   \n",
              "14         0.922825  0.680389  0.687609  0.122609  0.467605   \n",
              "15         0.913988  0.678325   0.68137  0.116287  0.446954   \n",
              "16         0.904123  0.675591  0.673967  0.107154   0.42663   \n",
              "17         0.893786  0.671594  0.665405  0.101281  0.404699   \n",
              "18         0.881774  0.667137  0.655584  0.095523  0.381921   \n",
              "19         0.868902  0.661299  0.644437  0.092598  0.358771   \n",
              "20         0.854981  0.655392  0.631839  0.089264  0.335801   \n",
              "21         0.840963  0.648891  0.617992   0.07817  0.313107   \n",
              "22         0.826273  0.641667  0.602888  0.071138  0.291016   \n",
              "23         0.810333  0.633007   0.58679  0.065222  0.268057   \n",
              "24         0.792868  0.624673  0.569853  0.057736  0.246041   \n",
              "25         0.774871  0.614828  0.552263  0.050496  0.224604   \n",
              "26         0.756547  0.604874  0.534231  0.038398  0.204681   \n",
              "27         0.737278  0.593744   0.51593  0.024969  0.185069   \n",
              "28         0.716925  0.582273  0.497431  0.018295  0.166142   \n",
              "29          0.69637  0.569976  0.478824  0.011728  0.148316   \n",
              "\n",
              "country Antigua and Barbuda Argentina   Armenia Australia   Austria  ...  \\\n",
              "days                                                                 ...   \n",
              "0                  0.530276  0.327009  0.659523   0.77348  0.176305  ...   \n",
              "1                   0.50638  0.336645  0.678037  0.789004   0.18308  ...   \n",
              "2                  0.493991  0.346218  0.696001  0.804089  0.189619  ...   \n",
              "3                  0.485296  0.355632  0.713172  0.818552  0.195854  ...   \n",
              "4                  0.482591  0.364705   0.72934  0.832682  0.201752  ...   \n",
              "5                  0.487632   0.37371  0.744441  0.845744  0.207255  ...   \n",
              "6                  0.476496   0.38227  0.758271  0.856976   0.21228  ...   \n",
              "7                  0.453154  0.390186  0.770517  0.867502  0.216845  ...   \n",
              "8                  0.457607  0.397627  0.781295  0.877613  0.220867  ...   \n",
              "9                  0.466987  0.404387  0.790196  0.886424  0.224286  ...   \n",
              "10                 0.475256  0.410394  0.797338  0.894087  0.227068  ...   \n",
              "11                 0.481895  0.415682   0.80272  0.900508  0.229217  ...   \n",
              "12                 0.473444  0.419905  0.806275  0.905256  0.230738  ...   \n",
              "13                 0.472139  0.423337  0.808015  0.908789    0.2316  ...   \n",
              "14                 0.479508  0.426119  0.807732  0.910696  0.231797  ...   \n",
              "15                 0.486582  0.427881  0.805273   0.91093  0.231342  ...   \n",
              "16                 0.475198  0.428745   0.80097  0.909396  0.230203  ...   \n",
              "17                  0.47536  0.428735  0.794736  0.905456  0.228401  ...   \n",
              "18                 0.465784  0.427823  0.786559  0.899458  0.225985  ...   \n",
              "19                 0.458601  0.425919  0.776587  0.892831  0.222968  ...   \n",
              "20                 0.444719  0.423004  0.764693  0.884898  0.219326  ...   \n",
              "21                 0.425011  0.419302  0.751137  0.875338  0.215138  ...   \n",
              "22                 0.399641  0.414812  0.736059  0.864046  0.210453  ...   \n",
              "23                 0.384585  0.409461  0.719372  0.851987   0.20528  ...   \n",
              "24                 0.350542  0.403362  0.701368  0.839842  0.199695  ...   \n",
              "25                 0.328972  0.396643  0.682263  0.827357  0.193729  ...   \n",
              "26                 0.306555  0.389489  0.662122  0.813451  0.187405  ...   \n",
              "27                 0.295721  0.381788  0.641248  0.799552  0.180836  ...   \n",
              "28                 0.287751  0.373463  0.619646  0.786085  0.174027  ...   \n",
              "29                 0.282807  0.364675  0.597439  0.773316  0.166972  ...   \n",
              "\n",
              "country United Kingdom   Uruguay Uzbekistan   Vanuatu Venezuela   Vietnam  \\\n",
              "days                                                                        \n",
              "0             0.123399   0.49843   0.838614  0.428355  0.819798  0.165871   \n",
              "1             0.133421   0.50478   0.839233  0.440257  0.813398  0.161809   \n",
              "2             0.140392  0.510943   0.839616  0.467139  0.814238  0.157779   \n",
              "3              0.14621  0.516488   0.839278  0.485665  0.817142  0.153579   \n",
              "4             0.151615  0.521496   0.838116  0.512148  0.816961   0.14936   \n",
              "5             0.156684  0.525911   0.836475  0.547009  0.819734  0.145117   \n",
              "6             0.161136  0.529654   0.834174   0.58676  0.818813  0.140556   \n",
              "7               0.1651  0.532537   0.830828  0.628196  0.815193  0.135845   \n",
              "8             0.168586   0.53495   0.827877  0.633467  0.819929  0.131013   \n",
              "9             0.172889  0.536424   0.823861   0.64339  0.819678  0.126036   \n",
              "10            0.176715  0.537044   0.819126  0.657537  0.817986  0.120937   \n",
              "11            0.180035  0.536671   0.814342  0.663404  0.815443  0.115739   \n",
              "12            0.182807  0.535761   0.808916  0.668485  0.811642  0.110387   \n",
              "13             0.18518  0.533622   0.803036  0.671957  0.808649  0.104997   \n",
              "14            0.186872  0.530529   0.797165  0.670039  0.804897  0.099492   \n",
              "15            0.187796  0.526297   0.790801   0.69737  0.800228  0.093944   \n",
              "16            0.188478  0.521372    0.78441  0.709481  0.794237  0.088338   \n",
              "17            0.188259   0.51577   0.778002  0.725318  0.788123  0.082636   \n",
              "18            0.187621  0.509513   0.770926  0.745205  0.782719  0.076876   \n",
              "19            0.186556  0.502645    0.76351  0.767786  0.776733   0.07112   \n",
              "20            0.184637  0.495179   0.755872   0.75962  0.768527  0.065311   \n",
              "21            0.182158  0.487089   0.747574  0.753548  0.759834  0.059558   \n",
              "22            0.179402  0.478782   0.738969  0.737059  0.752556  0.053862   \n",
              "23            0.175739  0.469923   0.729884  0.719753  0.743898  0.048209   \n",
              "24            0.171349   0.46048   0.720139  0.688229  0.735427  0.042609   \n",
              "25            0.166496    0.4506   0.710309   0.65612  0.726774   0.03704   \n",
              "26            0.161166  0.440287   0.700261  0.610235   0.71601  0.031491   \n",
              "27            0.155486  0.429462   0.689566  0.595104  0.707377  0.026086   \n",
              "28            0.149046  0.418426   0.678647  0.574988  0.697107  0.020697   \n",
              "29            0.141606   0.40722   0.667396  0.544716  0.684457  0.015374   \n",
              "\n",
              "country West Bank and Gaza     Yemen    Zambia  Zimbabwe  \n",
              "days                                                      \n",
              "0                 0.650524  0.876012   0.66998  0.575311  \n",
              "1                 0.646672  0.879955  0.681498  0.590244  \n",
              "2                 0.642343  0.880432  0.691134  0.605329  \n",
              "3                 0.638992  0.875533  0.698986  0.619486  \n",
              "4                 0.635392  0.867268  0.705402  0.631567  \n",
              "5                 0.631839  0.859132   0.70981  0.641922  \n",
              "6                  0.62491  0.850182  0.712186   0.65023  \n",
              "7                 0.615488  0.843534  0.712573   0.65641  \n",
              "8                 0.622953  0.843516  0.711078  0.662159  \n",
              "9                 0.628492  0.841464  0.707724  0.665288  \n",
              "10                0.632141  0.839594  0.702276  0.665143  \n",
              "11                0.635371  0.836788  0.694455  0.663849  \n",
              "12                0.636568  0.830864  0.684756  0.659729  \n",
              "13                0.635735  0.822742  0.672993   0.65494  \n",
              "14                0.633825  0.805043  0.659488  0.646548  \n",
              "15                0.629288  0.787641  0.644286  0.636493  \n",
              "16                0.624022  0.770664  0.627128  0.624087  \n",
              "17                0.617252  0.751698  0.608543   0.61076  \n",
              "18                0.607888  0.732144  0.588821  0.595676  \n",
              "19                0.597614  0.710566  0.568057  0.579396  \n",
              "20                0.586145   0.68869  0.546591  0.560312  \n",
              "21                0.573183  0.671457  0.524316  0.541603  \n",
              "22                0.558597  0.650993  0.501426  0.521338  \n",
              "23                0.542423  0.628414   0.47817  0.500045  \n",
              "24                0.526448  0.606338  0.454499  0.478337  \n",
              "25                0.510624  0.583766  0.430594  0.455299  \n",
              "26                0.493914  0.562558  0.406546  0.433237  \n",
              "27                0.477451  0.540004  0.382448  0.410656  \n",
              "28                0.460744  0.514286  0.358485  0.386683  \n",
              "29                0.443591  0.489635  0.334744  0.363353  \n",
              "\n",
              "[30 rows x 193 columns]"
            ],
            "text/html": [
              "\n",
              "  <div id=\"df-54e355f0-4c28-4964-aa93-ff5949eec907\">\n",
              "    <div class=\"colab-df-container\">\n",
              "      <div>\n",
              "<style scoped>\n",
              "    .dataframe tbody tr th:only-of-type {\n",
              "        vertical-align: middle;\n",
              "    }\n",
              "\n",
              "    .dataframe tbody tr th {\n",
              "        vertical-align: top;\n",
              "    }\n",
              "\n",
              "    .dataframe thead th {\n",
              "        text-align: right;\n",
              "    }\n",
              "</style>\n",
              "<table border=\"1\" class=\"dataframe\">\n",
              "  <thead>\n",
              "    <tr style=\"text-align: right;\">\n",
              "      <th>country</th>\n",
              "      <th>Afghanistan</th>\n",
              "      <th>Albania</th>\n",
              "      <th>Algeria</th>\n",
              "      <th>Andorra</th>\n",
              "      <th>Angola</th>\n",
              "      <th>Antigua and Barbuda</th>\n",
              "      <th>Argentina</th>\n",
              "      <th>Armenia</th>\n",
              "      <th>Australia</th>\n",
              "      <th>Austria</th>\n",
              "      <th>...</th>\n",
              "      <th>United Kingdom</th>\n",
              "      <th>Uruguay</th>\n",
              "      <th>Uzbekistan</th>\n",
              "      <th>Vanuatu</th>\n",
              "      <th>Venezuela</th>\n",
              "      <th>Vietnam</th>\n",
              "      <th>West Bank and Gaza</th>\n",
              "      <th>Yemen</th>\n",
              "      <th>Zambia</th>\n",
              "      <th>Zimbabwe</th>\n",
              "    </tr>\n",
              "    <tr>\n",
              "      <th>days</th>\n",
              "      <th></th>\n",
              "      <th></th>\n",
              "      <th></th>\n",
              "      <th></th>\n",
              "      <th></th>\n",
              "      <th></th>\n",
              "      <th></th>\n",
              "      <th></th>\n",
              "      <th></th>\n",
              "      <th></th>\n",
              "      <th></th>\n",
              "      <th></th>\n",
              "      <th></th>\n",
              "      <th></th>\n",
              "      <th></th>\n",
              "      <th></th>\n",
              "      <th></th>\n",
              "      <th></th>\n",
              "      <th></th>\n",
              "      <th></th>\n",
              "      <th></th>\n",
              "    </tr>\n",
              "  </thead>\n",
              "  <tbody>\n",
              "    <tr>\n",
              "      <th>0</th>\n",
              "      <td>0.900041</td>\n",
              "      <td>0.628451</td>\n",
              "      <td>0.654604</td>\n",
              "      <td>0.112316</td>\n",
              "      <td>0.512038</td>\n",
              "      <td>0.530276</td>\n",
              "      <td>0.327009</td>\n",
              "      <td>0.659523</td>\n",
              "      <td>0.77348</td>\n",
              "      <td>0.176305</td>\n",
              "      <td>...</td>\n",
              "      <td>0.123399</td>\n",
              "      <td>0.49843</td>\n",
              "      <td>0.838614</td>\n",
              "      <td>0.428355</td>\n",
              "      <td>0.819798</td>\n",
              "      <td>0.165871</td>\n",
              "      <td>0.650524</td>\n",
              "      <td>0.876012</td>\n",
              "      <td>0.66998</td>\n",
              "      <td>0.575311</td>\n",
              "    </tr>\n",
              "    <tr>\n",
              "      <th>1</th>\n",
              "      <td>0.90707</td>\n",
              "      <td>0.636198</td>\n",
              "      <td>0.664646</td>\n",
              "      <td>0.103853</td>\n",
              "      <td>0.513481</td>\n",
              "      <td>0.50638</td>\n",
              "      <td>0.336645</td>\n",
              "      <td>0.678037</td>\n",
              "      <td>0.789004</td>\n",
              "      <td>0.18308</td>\n",
              "      <td>...</td>\n",
              "      <td>0.133421</td>\n",
              "      <td>0.50478</td>\n",
              "      <td>0.839233</td>\n",
              "      <td>0.440257</td>\n",
              "      <td>0.813398</td>\n",
              "      <td>0.161809</td>\n",
              "      <td>0.646672</td>\n",
              "      <td>0.879955</td>\n",
              "      <td>0.681498</td>\n",
              "      <td>0.590244</td>\n",
              "    </tr>\n",
              "    <tr>\n",
              "      <th>2</th>\n",
              "      <td>0.913959</td>\n",
              "      <td>0.644678</td>\n",
              "      <td>0.673419</td>\n",
              "      <td>0.101811</td>\n",
              "      <td>0.515937</td>\n",
              "      <td>0.493991</td>\n",
              "      <td>0.346218</td>\n",
              "      <td>0.696001</td>\n",
              "      <td>0.804089</td>\n",
              "      <td>0.189619</td>\n",
              "      <td>...</td>\n",
              "      <td>0.140392</td>\n",
              "      <td>0.510943</td>\n",
              "      <td>0.839616</td>\n",
              "      <td>0.467139</td>\n",
              "      <td>0.814238</td>\n",
              "      <td>0.157779</td>\n",
              "      <td>0.642343</td>\n",
              "      <td>0.880432</td>\n",
              "      <td>0.691134</td>\n",
              "      <td>0.605329</td>\n",
              "    </tr>\n",
              "    <tr>\n",
              "      <th>3</th>\n",
              "      <td>0.919658</td>\n",
              "      <td>0.651519</td>\n",
              "      <td>0.680907</td>\n",
              "      <td>0.104622</td>\n",
              "      <td>0.518573</td>\n",
              "      <td>0.485296</td>\n",
              "      <td>0.355632</td>\n",
              "      <td>0.713172</td>\n",
              "      <td>0.818552</td>\n",
              "      <td>0.195854</td>\n",
              "      <td>...</td>\n",
              "      <td>0.14621</td>\n",
              "      <td>0.516488</td>\n",
              "      <td>0.839278</td>\n",
              "      <td>0.485665</td>\n",
              "      <td>0.817142</td>\n",
              "      <td>0.153579</td>\n",
              "      <td>0.638992</td>\n",
              "      <td>0.875533</td>\n",
              "      <td>0.698986</td>\n",
              "      <td>0.619486</td>\n",
              "    </tr>\n",
              "    <tr>\n",
              "      <th>4</th>\n",
              "      <td>0.924646</td>\n",
              "      <td>0.657642</td>\n",
              "      <td>0.68726</td>\n",
              "      <td>0.10915</td>\n",
              "      <td>0.521069</td>\n",
              "      <td>0.482591</td>\n",
              "      <td>0.364705</td>\n",
              "      <td>0.72934</td>\n",
              "      <td>0.832682</td>\n",
              "      <td>0.201752</td>\n",
              "      <td>...</td>\n",
              "      <td>0.151615</td>\n",
              "      <td>0.521496</td>\n",
              "      <td>0.838116</td>\n",
              "      <td>0.512148</td>\n",
              "      <td>0.816961</td>\n",
              "      <td>0.14936</td>\n",
              "      <td>0.635392</td>\n",
              "      <td>0.867268</td>\n",
              "      <td>0.705402</td>\n",
              "      <td>0.631567</td>\n",
              "    </tr>\n",
              "    <tr>\n",
              "      <th>5</th>\n",
              "      <td>0.928353</td>\n",
              "      <td>0.662813</td>\n",
              "      <td>0.692337</td>\n",
              "      <td>0.110567</td>\n",
              "      <td>0.523803</td>\n",
              "      <td>0.487632</td>\n",
              "      <td>0.37371</td>\n",
              "      <td>0.744441</td>\n",
              "      <td>0.845744</td>\n",
              "      <td>0.207255</td>\n",
              "      <td>...</td>\n",
              "      <td>0.156684</td>\n",
              "      <td>0.525911</td>\n",
              "      <td>0.836475</td>\n",
              "      <td>0.547009</td>\n",
              "      <td>0.819734</td>\n",
              "      <td>0.145117</td>\n",
              "      <td>0.631839</td>\n",
              "      <td>0.859132</td>\n",
              "      <td>0.70981</td>\n",
              "      <td>0.641922</td>\n",
              "    </tr>\n",
              "    <tr>\n",
              "      <th>6</th>\n",
              "      <td>0.931546</td>\n",
              "      <td>0.667272</td>\n",
              "      <td>0.69637</td>\n",
              "      <td>0.108344</td>\n",
              "      <td>0.526345</td>\n",
              "      <td>0.476496</td>\n",
              "      <td>0.38227</td>\n",
              "      <td>0.758271</td>\n",
              "      <td>0.856976</td>\n",
              "      <td>0.21228</td>\n",
              "      <td>...</td>\n",
              "      <td>0.161136</td>\n",
              "      <td>0.529654</td>\n",
              "      <td>0.834174</td>\n",
              "      <td>0.58676</td>\n",
              "      <td>0.818813</td>\n",
              "      <td>0.140556</td>\n",
              "      <td>0.62491</td>\n",
              "      <td>0.850182</td>\n",
              "      <td>0.712186</td>\n",
              "      <td>0.65023</td>\n",
              "    </tr>\n",
              "    <tr>\n",
              "      <th>7</th>\n",
              "      <td>0.934377</td>\n",
              "      <td>0.670716</td>\n",
              "      <td>0.699375</td>\n",
              "      <td>0.105764</td>\n",
              "      <td>0.526858</td>\n",
              "      <td>0.453154</td>\n",
              "      <td>0.390186</td>\n",
              "      <td>0.770517</td>\n",
              "      <td>0.867502</td>\n",
              "      <td>0.216845</td>\n",
              "      <td>...</td>\n",
              "      <td>0.1651</td>\n",
              "      <td>0.532537</td>\n",
              "      <td>0.830828</td>\n",
              "      <td>0.628196</td>\n",
              "      <td>0.815193</td>\n",
              "      <td>0.135845</td>\n",
              "      <td>0.615488</td>\n",
              "      <td>0.843534</td>\n",
              "      <td>0.712573</td>\n",
              "      <td>0.65641</td>\n",
              "    </tr>\n",
              "    <tr>\n",
              "      <th>8</th>\n",
              "      <td>0.93765</td>\n",
              "      <td>0.674647</td>\n",
              "      <td>0.701319</td>\n",
              "      <td>0.113945</td>\n",
              "      <td>0.528741</td>\n",
              "      <td>0.457607</td>\n",
              "      <td>0.397627</td>\n",
              "      <td>0.781295</td>\n",
              "      <td>0.877613</td>\n",
              "      <td>0.220867</td>\n",
              "      <td>...</td>\n",
              "      <td>0.168586</td>\n",
              "      <td>0.53495</td>\n",
              "      <td>0.827877</td>\n",
              "      <td>0.633467</td>\n",
              "      <td>0.819929</td>\n",
              "      <td>0.131013</td>\n",
              "      <td>0.622953</td>\n",
              "      <td>0.843516</td>\n",
              "      <td>0.711078</td>\n",
              "      <td>0.662159</td>\n",
              "    </tr>\n",
              "    <tr>\n",
              "      <th>9</th>\n",
              "      <td>0.939136</td>\n",
              "      <td>0.677184</td>\n",
              "      <td>0.702056</td>\n",
              "      <td>0.121334</td>\n",
              "      <td>0.526313</td>\n",
              "      <td>0.466987</td>\n",
              "      <td>0.404387</td>\n",
              "      <td>0.790196</td>\n",
              "      <td>0.886424</td>\n",
              "      <td>0.224286</td>\n",
              "      <td>...</td>\n",
              "      <td>0.172889</td>\n",
              "      <td>0.536424</td>\n",
              "      <td>0.823861</td>\n",
              "      <td>0.64339</td>\n",
              "      <td>0.819678</td>\n",
              "      <td>0.126036</td>\n",
              "      <td>0.628492</td>\n",
              "      <td>0.841464</td>\n",
              "      <td>0.707724</td>\n",
              "      <td>0.665288</td>\n",
              "    </tr>\n",
              "    <tr>\n",
              "      <th>10</th>\n",
              "      <td>0.938805</td>\n",
              "      <td>0.679452</td>\n",
              "      <td>0.701522</td>\n",
              "      <td>0.123206</td>\n",
              "      <td>0.521017</td>\n",
              "      <td>0.475256</td>\n",
              "      <td>0.410394</td>\n",
              "      <td>0.797338</td>\n",
              "      <td>0.894087</td>\n",
              "      <td>0.227068</td>\n",
              "      <td>...</td>\n",
              "      <td>0.176715</td>\n",
              "      <td>0.537044</td>\n",
              "      <td>0.819126</td>\n",
              "      <td>0.657537</td>\n",
              "      <td>0.817986</td>\n",
              "      <td>0.120937</td>\n",
              "      <td>0.632141</td>\n",
              "      <td>0.839594</td>\n",
              "      <td>0.702276</td>\n",
              "      <td>0.665143</td>\n",
              "    </tr>\n",
              "    <tr>\n",
              "      <th>11</th>\n",
              "      <td>0.937452</td>\n",
              "      <td>0.6809</td>\n",
              "      <td>0.699731</td>\n",
              "      <td>0.122279</td>\n",
              "      <td>0.512983</td>\n",
              "      <td>0.481895</td>\n",
              "      <td>0.415682</td>\n",
              "      <td>0.80272</td>\n",
              "      <td>0.900508</td>\n",
              "      <td>0.229217</td>\n",
              "      <td>...</td>\n",
              "      <td>0.180035</td>\n",
              "      <td>0.536671</td>\n",
              "      <td>0.814342</td>\n",
              "      <td>0.663404</td>\n",
              "      <td>0.815443</td>\n",
              "      <td>0.115739</td>\n",
              "      <td>0.635371</td>\n",
              "      <td>0.836788</td>\n",
              "      <td>0.694455</td>\n",
              "      <td>0.663849</td>\n",
              "    </tr>\n",
              "    <tr>\n",
              "      <th>12</th>\n",
              "      <td>0.934473</td>\n",
              "      <td>0.681956</td>\n",
              "      <td>0.696824</td>\n",
              "      <td>0.12094</td>\n",
              "      <td>0.500438</td>\n",
              "      <td>0.473444</td>\n",
              "      <td>0.419905</td>\n",
              "      <td>0.806275</td>\n",
              "      <td>0.905256</td>\n",
              "      <td>0.230738</td>\n",
              "      <td>...</td>\n",
              "      <td>0.182807</td>\n",
              "      <td>0.535761</td>\n",
              "      <td>0.808916</td>\n",
              "      <td>0.668485</td>\n",
              "      <td>0.811642</td>\n",
              "      <td>0.110387</td>\n",
              "      <td>0.636568</td>\n",
              "      <td>0.830864</td>\n",
              "      <td>0.684756</td>\n",
              "      <td>0.659729</td>\n",
              "    </tr>\n",
              "    <tr>\n",
              "      <th>13</th>\n",
              "      <td>0.930002</td>\n",
              "      <td>0.681843</td>\n",
              "      <td>0.692816</td>\n",
              "      <td>0.121809</td>\n",
              "      <td>0.48522</td>\n",
              "      <td>0.472139</td>\n",
              "      <td>0.423337</td>\n",
              "      <td>0.808015</td>\n",
              "      <td>0.908789</td>\n",
              "      <td>0.2316</td>\n",
              "      <td>...</td>\n",
              "      <td>0.18518</td>\n",
              "      <td>0.533622</td>\n",
              "      <td>0.803036</td>\n",
              "      <td>0.671957</td>\n",
              "      <td>0.808649</td>\n",
              "      <td>0.104997</td>\n",
              "      <td>0.635735</td>\n",
              "      <td>0.822742</td>\n",
              "      <td>0.672993</td>\n",
              "      <td>0.65494</td>\n",
              "    </tr>\n",
              "    <tr>\n",
              "      <th>14</th>\n",
              "      <td>0.922825</td>\n",
              "      <td>0.680389</td>\n",
              "      <td>0.687609</td>\n",
              "      <td>0.122609</td>\n",
              "      <td>0.467605</td>\n",
              "      <td>0.479508</td>\n",
              "      <td>0.426119</td>\n",
              "      <td>0.807732</td>\n",
              "      <td>0.910696</td>\n",
              "      <td>0.231797</td>\n",
              "      <td>...</td>\n",
              "      <td>0.186872</td>\n",
              "      <td>0.530529</td>\n",
              "      <td>0.797165</td>\n",
              "      <td>0.670039</td>\n",
              "      <td>0.804897</td>\n",
              "      <td>0.099492</td>\n",
              "      <td>0.633825</td>\n",
              "      <td>0.805043</td>\n",
              "      <td>0.659488</td>\n",
              "      <td>0.646548</td>\n",
              "    </tr>\n",
              "    <tr>\n",
              "      <th>15</th>\n",
              "      <td>0.913988</td>\n",
              "      <td>0.678325</td>\n",
              "      <td>0.68137</td>\n",
              "      <td>0.116287</td>\n",
              "      <td>0.446954</td>\n",
              "      <td>0.486582</td>\n",
              "      <td>0.427881</td>\n",
              "      <td>0.805273</td>\n",
              "      <td>0.91093</td>\n",
              "      <td>0.231342</td>\n",
              "      <td>...</td>\n",
              "      <td>0.187796</td>\n",
              "      <td>0.526297</td>\n",
              "      <td>0.790801</td>\n",
              "      <td>0.69737</td>\n",
              "      <td>0.800228</td>\n",
              "      <td>0.093944</td>\n",
              "      <td>0.629288</td>\n",
              "      <td>0.787641</td>\n",
              "      <td>0.644286</td>\n",
              "      <td>0.636493</td>\n",
              "    </tr>\n",
              "    <tr>\n",
              "      <th>16</th>\n",
              "      <td>0.904123</td>\n",
              "      <td>0.675591</td>\n",
              "      <td>0.673967</td>\n",
              "      <td>0.107154</td>\n",
              "      <td>0.42663</td>\n",
              "      <td>0.475198</td>\n",
              "      <td>0.428745</td>\n",
              "      <td>0.80097</td>\n",
              "      <td>0.909396</td>\n",
              "      <td>0.230203</td>\n",
              "      <td>...</td>\n",
              "      <td>0.188478</td>\n",
              "      <td>0.521372</td>\n",
              "      <td>0.78441</td>\n",
              "      <td>0.709481</td>\n",
              "      <td>0.794237</td>\n",
              "      <td>0.088338</td>\n",
              "      <td>0.624022</td>\n",
              "      <td>0.770664</td>\n",
              "      <td>0.627128</td>\n",
              "      <td>0.624087</td>\n",
              "    </tr>\n",
              "    <tr>\n",
              "      <th>17</th>\n",
              "      <td>0.893786</td>\n",
              "      <td>0.671594</td>\n",
              "      <td>0.665405</td>\n",
              "      <td>0.101281</td>\n",
              "      <td>0.404699</td>\n",
              "      <td>0.47536</td>\n",
              "      <td>0.428735</td>\n",
              "      <td>0.794736</td>\n",
              "      <td>0.905456</td>\n",
              "      <td>0.228401</td>\n",
              "      <td>...</td>\n",
              "      <td>0.188259</td>\n",
              "      <td>0.51577</td>\n",
              "      <td>0.778002</td>\n",
              "      <td>0.725318</td>\n",
              "      <td>0.788123</td>\n",
              "      <td>0.082636</td>\n",
              "      <td>0.617252</td>\n",
              "      <td>0.751698</td>\n",
              "      <td>0.608543</td>\n",
              "      <td>0.61076</td>\n",
              "    </tr>\n",
              "    <tr>\n",
              "      <th>18</th>\n",
              "      <td>0.881774</td>\n",
              "      <td>0.667137</td>\n",
              "      <td>0.655584</td>\n",
              "      <td>0.095523</td>\n",
              "      <td>0.381921</td>\n",
              "      <td>0.465784</td>\n",
              "      <td>0.427823</td>\n",
              "      <td>0.786559</td>\n",
              "      <td>0.899458</td>\n",
              "      <td>0.225985</td>\n",
              "      <td>...</td>\n",
              "      <td>0.187621</td>\n",
              "      <td>0.509513</td>\n",
              "      <td>0.770926</td>\n",
              "      <td>0.745205</td>\n",
              "      <td>0.782719</td>\n",
              "      <td>0.076876</td>\n",
              "      <td>0.607888</td>\n",
              "      <td>0.732144</td>\n",
              "      <td>0.588821</td>\n",
              "      <td>0.595676</td>\n",
              "    </tr>\n",
              "    <tr>\n",
              "      <th>19</th>\n",
              "      <td>0.868902</td>\n",
              "      <td>0.661299</td>\n",
              "      <td>0.644437</td>\n",
              "      <td>0.092598</td>\n",
              "      <td>0.358771</td>\n",
              "      <td>0.458601</td>\n",
              "      <td>0.425919</td>\n",
              "      <td>0.776587</td>\n",
              "      <td>0.892831</td>\n",
              "      <td>0.222968</td>\n",
              "      <td>...</td>\n",
              "      <td>0.186556</td>\n",
              "      <td>0.502645</td>\n",
              "      <td>0.76351</td>\n",
              "      <td>0.767786</td>\n",
              "      <td>0.776733</td>\n",
              "      <td>0.07112</td>\n",
              "      <td>0.597614</td>\n",
              "      <td>0.710566</td>\n",
              "      <td>0.568057</td>\n",
              "      <td>0.579396</td>\n",
              "    </tr>\n",
              "    <tr>\n",
              "      <th>20</th>\n",
              "      <td>0.854981</td>\n",
              "      <td>0.655392</td>\n",
              "      <td>0.631839</td>\n",
              "      <td>0.089264</td>\n",
              "      <td>0.335801</td>\n",
              "      <td>0.444719</td>\n",
              "      <td>0.423004</td>\n",
              "      <td>0.764693</td>\n",
              "      <td>0.884898</td>\n",
              "      <td>0.219326</td>\n",
              "      <td>...</td>\n",
              "      <td>0.184637</td>\n",
              "      <td>0.495179</td>\n",
              "      <td>0.755872</td>\n",
              "      <td>0.75962</td>\n",
              "      <td>0.768527</td>\n",
              "      <td>0.065311</td>\n",
              "      <td>0.586145</td>\n",
              "      <td>0.68869</td>\n",
              "      <td>0.546591</td>\n",
              "      <td>0.560312</td>\n",
              "    </tr>\n",
              "    <tr>\n",
              "      <th>21</th>\n",
              "      <td>0.840963</td>\n",
              "      <td>0.648891</td>\n",
              "      <td>0.617992</td>\n",
              "      <td>0.07817</td>\n",
              "      <td>0.313107</td>\n",
              "      <td>0.425011</td>\n",
              "      <td>0.419302</td>\n",
              "      <td>0.751137</td>\n",
              "      <td>0.875338</td>\n",
              "      <td>0.215138</td>\n",
              "      <td>...</td>\n",
              "      <td>0.182158</td>\n",
              "      <td>0.487089</td>\n",
              "      <td>0.747574</td>\n",
              "      <td>0.753548</td>\n",
              "      <td>0.759834</td>\n",
              "      <td>0.059558</td>\n",
              "      <td>0.573183</td>\n",
              "      <td>0.671457</td>\n",
              "      <td>0.524316</td>\n",
              "      <td>0.541603</td>\n",
              "    </tr>\n",
              "    <tr>\n",
              "      <th>22</th>\n",
              "      <td>0.826273</td>\n",
              "      <td>0.641667</td>\n",
              "      <td>0.602888</td>\n",
              "      <td>0.071138</td>\n",
              "      <td>0.291016</td>\n",
              "      <td>0.399641</td>\n",
              "      <td>0.414812</td>\n",
              "      <td>0.736059</td>\n",
              "      <td>0.864046</td>\n",
              "      <td>0.210453</td>\n",
              "      <td>...</td>\n",
              "      <td>0.179402</td>\n",
              "      <td>0.478782</td>\n",
              "      <td>0.738969</td>\n",
              "      <td>0.737059</td>\n",
              "      <td>0.752556</td>\n",
              "      <td>0.053862</td>\n",
              "      <td>0.558597</td>\n",
              "      <td>0.650993</td>\n",
              "      <td>0.501426</td>\n",
              "      <td>0.521338</td>\n",
              "    </tr>\n",
              "    <tr>\n",
              "      <th>23</th>\n",
              "      <td>0.810333</td>\n",
              "      <td>0.633007</td>\n",
              "      <td>0.58679</td>\n",
              "      <td>0.065222</td>\n",
              "      <td>0.268057</td>\n",
              "      <td>0.384585</td>\n",
              "      <td>0.409461</td>\n",
              "      <td>0.719372</td>\n",
              "      <td>0.851987</td>\n",
              "      <td>0.20528</td>\n",
              "      <td>...</td>\n",
              "      <td>0.175739</td>\n",
              "      <td>0.469923</td>\n",
              "      <td>0.729884</td>\n",
              "      <td>0.719753</td>\n",
              "      <td>0.743898</td>\n",
              "      <td>0.048209</td>\n",
              "      <td>0.542423</td>\n",
              "      <td>0.628414</td>\n",
              "      <td>0.47817</td>\n",
              "      <td>0.500045</td>\n",
              "    </tr>\n",
              "    <tr>\n",
              "      <th>24</th>\n",
              "      <td>0.792868</td>\n",
              "      <td>0.624673</td>\n",
              "      <td>0.569853</td>\n",
              "      <td>0.057736</td>\n",
              "      <td>0.246041</td>\n",
              "      <td>0.350542</td>\n",
              "      <td>0.403362</td>\n",
              "      <td>0.701368</td>\n",
              "      <td>0.839842</td>\n",
              "      <td>0.199695</td>\n",
              "      <td>...</td>\n",
              "      <td>0.171349</td>\n",
              "      <td>0.46048</td>\n",
              "      <td>0.720139</td>\n",
              "      <td>0.688229</td>\n",
              "      <td>0.735427</td>\n",
              "      <td>0.042609</td>\n",
              "      <td>0.526448</td>\n",
              "      <td>0.606338</td>\n",
              "      <td>0.454499</td>\n",
              "      <td>0.478337</td>\n",
              "    </tr>\n",
              "    <tr>\n",
              "      <th>25</th>\n",
              "      <td>0.774871</td>\n",
              "      <td>0.614828</td>\n",
              "      <td>0.552263</td>\n",
              "      <td>0.050496</td>\n",
              "      <td>0.224604</td>\n",
              "      <td>0.328972</td>\n",
              "      <td>0.396643</td>\n",
              "      <td>0.682263</td>\n",
              "      <td>0.827357</td>\n",
              "      <td>0.193729</td>\n",
              "      <td>...</td>\n",
              "      <td>0.166496</td>\n",
              "      <td>0.4506</td>\n",
              "      <td>0.710309</td>\n",
              "      <td>0.65612</td>\n",
              "      <td>0.726774</td>\n",
              "      <td>0.03704</td>\n",
              "      <td>0.510624</td>\n",
              "      <td>0.583766</td>\n",
              "      <td>0.430594</td>\n",
              "      <td>0.455299</td>\n",
              "    </tr>\n",
              "    <tr>\n",
              "      <th>26</th>\n",
              "      <td>0.756547</td>\n",
              "      <td>0.604874</td>\n",
              "      <td>0.534231</td>\n",
              "      <td>0.038398</td>\n",
              "      <td>0.204681</td>\n",
              "      <td>0.306555</td>\n",
              "      <td>0.389489</td>\n",
              "      <td>0.662122</td>\n",
              "      <td>0.813451</td>\n",
              "      <td>0.187405</td>\n",
              "      <td>...</td>\n",
              "      <td>0.161166</td>\n",
              "      <td>0.440287</td>\n",
              "      <td>0.700261</td>\n",
              "      <td>0.610235</td>\n",
              "      <td>0.71601</td>\n",
              "      <td>0.031491</td>\n",
              "      <td>0.493914</td>\n",
              "      <td>0.562558</td>\n",
              "      <td>0.406546</td>\n",
              "      <td>0.433237</td>\n",
              "    </tr>\n",
              "    <tr>\n",
              "      <th>27</th>\n",
              "      <td>0.737278</td>\n",
              "      <td>0.593744</td>\n",
              "      <td>0.51593</td>\n",
              "      <td>0.024969</td>\n",
              "      <td>0.185069</td>\n",
              "      <td>0.295721</td>\n",
              "      <td>0.381788</td>\n",
              "      <td>0.641248</td>\n",
              "      <td>0.799552</td>\n",
              "      <td>0.180836</td>\n",
              "      <td>...</td>\n",
              "      <td>0.155486</td>\n",
              "      <td>0.429462</td>\n",
              "      <td>0.689566</td>\n",
              "      <td>0.595104</td>\n",
              "      <td>0.707377</td>\n",
              "      <td>0.026086</td>\n",
              "      <td>0.477451</td>\n",
              "      <td>0.540004</td>\n",
              "      <td>0.382448</td>\n",
              "      <td>0.410656</td>\n",
              "    </tr>\n",
              "    <tr>\n",
              "      <th>28</th>\n",
              "      <td>0.716925</td>\n",
              "      <td>0.582273</td>\n",
              "      <td>0.497431</td>\n",
              "      <td>0.018295</td>\n",
              "      <td>0.166142</td>\n",
              "      <td>0.287751</td>\n",
              "      <td>0.373463</td>\n",
              "      <td>0.619646</td>\n",
              "      <td>0.786085</td>\n",
              "      <td>0.174027</td>\n",
              "      <td>...</td>\n",
              "      <td>0.149046</td>\n",
              "      <td>0.418426</td>\n",
              "      <td>0.678647</td>\n",
              "      <td>0.574988</td>\n",
              "      <td>0.697107</td>\n",
              "      <td>0.020697</td>\n",
              "      <td>0.460744</td>\n",
              "      <td>0.514286</td>\n",
              "      <td>0.358485</td>\n",
              "      <td>0.386683</td>\n",
              "    </tr>\n",
              "    <tr>\n",
              "      <th>29</th>\n",
              "      <td>0.69637</td>\n",
              "      <td>0.569976</td>\n",
              "      <td>0.478824</td>\n",
              "      <td>0.011728</td>\n",
              "      <td>0.148316</td>\n",
              "      <td>0.282807</td>\n",
              "      <td>0.364675</td>\n",
              "      <td>0.597439</td>\n",
              "      <td>0.773316</td>\n",
              "      <td>0.166972</td>\n",
              "      <td>...</td>\n",
              "      <td>0.141606</td>\n",
              "      <td>0.40722</td>\n",
              "      <td>0.667396</td>\n",
              "      <td>0.544716</td>\n",
              "      <td>0.684457</td>\n",
              "      <td>0.015374</td>\n",
              "      <td>0.443591</td>\n",
              "      <td>0.489635</td>\n",
              "      <td>0.334744</td>\n",
              "      <td>0.363353</td>\n",
              "    </tr>\n",
              "  </tbody>\n",
              "</table>\n",
              "<p>30 rows × 193 columns</p>\n",
              "</div>\n",
              "      <button class=\"colab-df-convert\" onclick=\"convertToInteractive('df-54e355f0-4c28-4964-aa93-ff5949eec907')\"\n",
              "              title=\"Convert this dataframe to an interactive table.\"\n",
              "              style=\"display:none;\">\n",
              "        \n",
              "  <svg xmlns=\"http://www.w3.org/2000/svg\" height=\"24px\"viewBox=\"0 0 24 24\"\n",
              "       width=\"24px\">\n",
              "    <path d=\"M0 0h24v24H0V0z\" fill=\"none\"/>\n",
              "    <path d=\"M18.56 5.44l.94 2.06.94-2.06 2.06-.94-2.06-.94-.94-2.06-.94 2.06-2.06.94zm-11 1L8.5 8.5l.94-2.06 2.06-.94-2.06-.94L8.5 2.5l-.94 2.06-2.06.94zm10 10l.94 2.06.94-2.06 2.06-.94-2.06-.94-.94-2.06-.94 2.06-2.06.94z\"/><path d=\"M17.41 7.96l-1.37-1.37c-.4-.4-.92-.59-1.43-.59-.52 0-1.04.2-1.43.59L10.3 9.45l-7.72 7.72c-.78.78-.78 2.05 0 2.83L4 21.41c.39.39.9.59 1.41.59.51 0 1.02-.2 1.41-.59l7.78-7.78 2.81-2.81c.8-.78.8-2.07 0-2.86zM5.41 20L4 18.59l7.72-7.72 1.47 1.35L5.41 20z\"/>\n",
              "  </svg>\n",
              "      </button>\n",
              "      \n",
              "  <style>\n",
              "    .colab-df-container {\n",
              "      display:flex;\n",
              "      flex-wrap:wrap;\n",
              "      gap: 12px;\n",
              "    }\n",
              "\n",
              "    .colab-df-convert {\n",
              "      background-color: #E8F0FE;\n",
              "      border: none;\n",
              "      border-radius: 50%;\n",
              "      cursor: pointer;\n",
              "      display: none;\n",
              "      fill: #1967D2;\n",
              "      height: 32px;\n",
              "      padding: 0 0 0 0;\n",
              "      width: 32px;\n",
              "    }\n",
              "\n",
              "    .colab-df-convert:hover {\n",
              "      background-color: #E2EBFA;\n",
              "      box-shadow: 0px 1px 2px rgba(60, 64, 67, 0.3), 0px 1px 3px 1px rgba(60, 64, 67, 0.15);\n",
              "      fill: #174EA6;\n",
              "    }\n",
              "\n",
              "    [theme=dark] .colab-df-convert {\n",
              "      background-color: #3B4455;\n",
              "      fill: #D2E3FC;\n",
              "    }\n",
              "\n",
              "    [theme=dark] .colab-df-convert:hover {\n",
              "      background-color: #434B5C;\n",
              "      box-shadow: 0px 1px 3px 1px rgba(0, 0, 0, 0.15);\n",
              "      filter: drop-shadow(0px 1px 2px rgba(0, 0, 0, 0.3));\n",
              "      fill: #FFFFFF;\n",
              "    }\n",
              "  </style>\n",
              "\n",
              "      <script>\n",
              "        const buttonEl =\n",
              "          document.querySelector('#df-54e355f0-4c28-4964-aa93-ff5949eec907 button.colab-df-convert');\n",
              "        buttonEl.style.display =\n",
              "          google.colab.kernel.accessAllowed ? 'block' : 'none';\n",
              "\n",
              "        async function convertToInteractive(key) {\n",
              "          const element = document.querySelector('#df-54e355f0-4c28-4964-aa93-ff5949eec907');\n",
              "          const dataTable =\n",
              "            await google.colab.kernel.invokeFunction('convertToInteractive',\n",
              "                                                     [key], {});\n",
              "          if (!dataTable) return;\n",
              "\n",
              "          const docLinkHtml = 'Like what you see? Visit the ' +\n",
              "            '<a target=\"_blank\" href=https://colab.research.google.com/notebooks/data_table.ipynb>data table notebook</a>'\n",
              "            + ' to learn more about interactive tables.';\n",
              "          element.innerHTML = '';\n",
              "          dataTable['output_type'] = 'display_data';\n",
              "          await google.colab.output.renderOutput(dataTable, element);\n",
              "          const docLink = document.createElement('div');\n",
              "          docLink.innerHTML = docLinkHtml;\n",
              "          element.appendChild(docLink);\n",
              "        }\n",
              "      </script>\n",
              "    </div>\n",
              "  </div>\n",
              "  "
            ]
          },
          "metadata": {},
          "execution_count": 254
        }
      ]
    },
    {
      "cell_type": "markdown",
      "source": [
        "The index of the maximum element in each column is the number of days the (smoothed) `ndeaths` column most closely lags behind the (smoothed) `ninfected` column."
      ],
      "metadata": {
        "id": "Tj6NNmd7kpJH"
      }
    },
    {
      "cell_type": "code",
      "source": [
        "shifts = corrs.apply(lambda x: np.array(x).argmax())\n",
        "shifts"
      ],
      "metadata": {
        "colab": {
          "base_uri": "https://localhost:8080/"
        },
        "id": "URi7QIfhkAny",
        "outputId": "d3498712-8633-4a2a-c9d3-3b52f8c3640d"
      },
      "execution_count": 255,
      "outputs": [
        {
          "output_type": "execute_result",
          "data": {
            "text/plain": [
              "country\n",
              "Afghanistan            9\n",
              "Albania               12\n",
              "Algeria                9\n",
              "Andorra               10\n",
              "Angola                 8\n",
              "                      ..\n",
              "Vietnam                0\n",
              "West Bank and Gaza     0\n",
              "Yemen                  2\n",
              "Zambia                 7\n",
              "Zimbabwe               9\n",
              "Length: 193, dtype: int64"
            ]
          },
          "metadata": {},
          "execution_count": 255
        }
      ]
    },
    {
      "cell_type": "code",
      "source": [
        "plt.hist(shifts)\n",
        "plt.show()"
      ],
      "metadata": {
        "colab": {
          "base_uri": "https://localhost:8080/",
          "height": 265
        },
        "id": "E1A-IwgrmsEk",
        "outputId": "8985bd10-4a9a-455b-f0a9-7a251156cb68"
      },
      "execution_count": 267,
      "outputs": [
        {
          "output_type": "display_data",
          "data": {
            "text/plain": [
              "<Figure size 432x288 with 1 Axes>"
            ],
            "image/png": "[encoded data removed]"
          },
          "metadata": {
            "needs_background": "light"
          }
        }
      ]
    },
    {
      "cell_type": "markdown",
      "source": [
        "The `0` values are the columns where the correlation is largest at the beginning, and the `29`s are when it's largest at the end."
      ],
      "metadata": {
        "id": "sreZ03t4m9bh"
      }
    },
    {
      "cell_type": "code",
      "source": [
        "print(\"Average shift: {}\".format(shifts[(shifts > 0) & (shifts < 29)].mean()))\n",
        "plt.hist(shifts[(shifts > 0) & (shifts < 29)])\n",
        "plt.show()"
      ],
      "metadata": {
        "colab": {
          "base_uri": "https://localhost:8080/",
          "height": 282
        },
        "id": "fmGHbg6DmdQL",
        "outputId": "8dad6638-ff07-415d-acc9-5b5e0e9d3406"
      },
      "execution_count": 266,
      "outputs": [
        {
          "output_type": "stream",
          "name": "stdout",
          "text": [
            "Average shift: 11.329032258064515\n"
          ]
        },
        {
          "output_type": "display_data",
          "data": {
            "text/plain": [
              "<Figure size 432x288 with 1 Axes>"
            ],
            "image/png": "[encoded data removed]"
          },
          "metadata": {
            "needs_background": "light"
          }
        }
      ]
    },
    {
      "cell_type": "code",
      "source": [
        "plt.boxplot(shifts[shifts>0],vert=False,showmeans=True,labels=[\"days\"])\n",
        "plt.show()"
      ],
      "metadata": {
        "colab": {
          "base_uri": "https://localhost:8080/",
          "height": 265
        },
        "id": "cmfkDmfzng-_",
        "outputId": "0ffce759-dd5b-442c-9072-8b2cb26e33b9"
      },
      "execution_count": 272,
      "outputs": [
        {
          "output_type": "display_data",
          "data": {
            "text/plain": [
              "<Figure size 432x288 with 1 Axes>"
            ],
            "image/png": "[encoded data removed]"
          },
          "metadata": {
            "needs_background": "light"
          }
        }
      ]
    },
    {
      "cell_type": "markdown",
      "source": [
        "We estimate a 11-12 day length of disease."
      ],
      "metadata": {
        "id": "iszO9L-up9U8"
      }
    },
    {
      "cell_type": "markdown",
      "source": [
        "### Fatality Rate\n",
        "\n",
        "We're looking for the fraction of people diagnosed who die from it. We'll shift the deaths by 12 days to account for the disease's length"
      ],
      "metadata": {
        "id": "GrmiOEGetNGZ"
      }
    },
    {
      "cell_type": "code",
      "source": [
        "for c in focus_countries:\n",
        "  (df[c,'deaths'].shift(periods=12)/df[c,'infected']).plot()\n",
        "plt.legend(focus_countries)\n",
        "plt.show()\n"
      ],
      "metadata": {
        "colab": {
          "base_uri": "https://localhost:8080/",
          "height": 277
        },
        "id": "b60ep0XAtxHX",
        "outputId": "2a92ec4c-5cc2-4b6b-e8cf-0ec609ce725a"
      },
      "execution_count": 282,
      "outputs": [
        {
          "output_type": "display_data",
          "data": {
            "text/plain": [
              "<Figure size 432x288 with 1 Axes>"
            ],
            "image/png": "[encoded data removed]"
          },
          "metadata": {
            "needs_background": "light"
          }
        }
      ]
    },
    {
      "cell_type": "code",
      "source": [
        ""
      ],
      "metadata": {
        "id": "zz8Zbl_muMQ5"
      },
      "execution_count": null,
      "outputs": []
    }
  ]
}